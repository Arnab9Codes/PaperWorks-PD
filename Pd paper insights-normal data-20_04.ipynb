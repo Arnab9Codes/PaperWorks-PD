{
 "cells": [
  {
   "cell_type": "markdown",
   "metadata": {
    "id": "RYzJH9OnrurL"
   },
   "source": [
    "\n",
    "pip install -r requirements.txt\n",
    "pip install pipwin\n",
    "pipwin install -r requirements.txt"
   ]
  },
  {
   "cell_type": "markdown",
   "metadata": {},
   "source": [
    "0=women\n",
    "1=men\n",
    "0=no pd\n",
    "1=pd"
   ]
  },
  {
   "cell_type": "code",
   "execution_count": 1,
   "metadata": {
    "id": "eu8DgIgururO"
   },
   "outputs": [
    {
     "name": "stderr",
     "output_type": "stream",
     "text": [
      "c:\\users\\asus\\anaconda3\\envs\\deeplearn2\\lib\\site-packages\\statsmodels\\tools\\_testing.py:19: FutureWarning: pandas.util.testing is deprecated. Use the functions in the public API at pandas.testing instead.\n",
      "  import pandas.util.testing as tm\n"
     ]
    }
   ],
   "source": [
    "## Initial Imports\n",
    "\n",
    "%matplotlib inline\n",
    "\n",
    "import pandas as pd \n",
    "import numpy as np \n",
    "import matplotlib.pyplot as plt\n",
    "import seaborn as sns\n",
    "import random\n",
    "from tqdm import tqdm_notebook as tqdm\n",
    "from sklearn.model_selection import LeaveOneOut, GridSearchCV, KFold, train_test_split\n",
    "from sklearn import svm\n",
    "from sklearn.metrics import accuracy_score, f1_score, classification_report"
   ]
  },
  {
   "cell_type": "markdown",
   "metadata": {
    "id": "_MthW3IaSOkF"
   },
   "source": [
    "**`Read data and Display data dimension`**"
   ]
  },
  {
   "cell_type": "code",
   "execution_count": 2,
   "metadata": {
    "colab": {
     "base_uri": "https://localhost:8080/"
    },
    "id": "o4fLLdJVrurY",
    "outputId": "d993b28d-a4cf-4c29-d6d2-fb16698017af"
   },
   "outputs": [
    {
     "name": "stdout",
     "output_type": "stream",
     "text": [
      "The shape of the matrix is : (756, 755)\n"
     ]
    }
   ],
   "source": [
    "pd_speech_features = pd.read_csv('pd_speech_features.csv')\n",
    "new_header = pd_speech_features.iloc[0] #grab the first row for the header\n",
    "pd_speech_features = pd_speech_features[1:] #take the data less the header row\n",
    "pd_speech_features.columns = new_header #set the header row as the df header\n",
    "pd_speech_features.head()\n",
    "print('The shape of the matrix is :', pd_speech_features.shape)"
   ]
  },
  {
   "cell_type": "markdown",
   "metadata": {
    "id": "t_36-f_6rurg"
   },
   "source": [
    "#### Gather most general metadata about the data"
   ]
  },
  {
   "cell_type": "code",
   "execution_count": 3,
   "metadata": {
    "id": "a9FvWGzGrurv"
   },
   "outputs": [
    {
     "data": {
      "text/html": [
       "<div>\n",
       "<style scoped>\n",
       "    .dataframe tbody tr th:only-of-type {\n",
       "        vertical-align: middle;\n",
       "    }\n",
       "\n",
       "    .dataframe tbody tr th {\n",
       "        vertical-align: top;\n",
       "    }\n",
       "\n",
       "    .dataframe thead th {\n",
       "        text-align: right;\n",
       "    }\n",
       "</style>\n",
       "<table border=\"1\" class=\"dataframe\">\n",
       "  <thead>\n",
       "    <tr style=\"text-align: right;\">\n",
       "      <th></th>\n",
       "      <th>patient/healthy count</th>\n",
       "    </tr>\n",
       "    <tr>\n",
       "      <th>class</th>\n",
       "      <th></th>\n",
       "    </tr>\n",
       "  </thead>\n",
       "  <tbody>\n",
       "    <tr>\n",
       "      <th>0</th>\n",
       "      <td>64.0</td>\n",
       "    </tr>\n",
       "    <tr>\n",
       "      <th>1</th>\n",
       "      <td>188.0</td>\n",
       "    </tr>\n",
       "  </tbody>\n",
       "</table>\n",
       "</div>"
      ],
      "text/plain": [
       "0      patient/healthy count\n",
       "class                       \n",
       "0                       64.0\n",
       "1                      188.0"
      ]
     },
     "execution_count": 3,
     "metadata": {},
     "output_type": "execute_result"
    }
   ],
   "source": [
    "pd_speech_features['patient/healthy count'] = 1\n",
    "pd_speech_features.groupby('class').sum()/3"
   ]
  },
  {
   "cell_type": "code",
   "execution_count": 4,
   "metadata": {},
   "outputs": [
    {
     "data": {
      "text/plain": [
       "1    390\n",
       "0    366\n",
       "Name: gender, dtype: int64"
      ]
     },
     "execution_count": 4,
     "metadata": {},
     "output_type": "execute_result"
    }
   ],
   "source": [
    "#pd_speech_features['patient/healthy count'] = 1\n",
    "pd_speech_features['gender'].value_counts()"
   ]
  },
  {
   "cell_type": "code",
   "execution_count": 5,
   "metadata": {},
   "outputs": [
    {
     "data": {
      "text/plain": [
       "gender\n",
       "0     81.0\n",
       "1    107.0\n",
       "Name: class, dtype: float64"
      ]
     },
     "execution_count": 5,
     "metadata": {},
     "output_type": "execute_result"
    }
   ],
   "source": [
    "pd_speech_features[['gender','class']]=pd_speech_features[['gender','class']].astype('int')\n",
    "pd_speech_features.groupby(by='gender')['class'].sum()/3"
   ]
  },
  {
   "cell_type": "code",
   "execution_count": 6,
   "metadata": {
    "id": "L8ppw8fnrur1"
   },
   "outputs": [],
   "source": [
    "pd_speech_features = pd_speech_features.drop(['patient/healthy count'], axis = 1)  #756x755"
   ]
  },
  {
   "cell_type": "markdown",
   "metadata": {
    "id": "YgqnsxXNrur3"
   },
   "source": [
    "All the data was imported in the object type, we now need to take care about the types in the dataframe"
   ]
  },
  {
   "cell_type": "code",
   "execution_count": 7,
   "metadata": {
    "id": "BY5oJXz9rur4"
   },
   "outputs": [
    {
     "data": {
      "text/plain": [
       "0\n",
       "id                              int32\n",
       "gender                       category\n",
       "PPE                           float64\n",
       "DFA                           float64\n",
       "RPDE                          float64\n",
       "                               ...   \n",
       "tqwt_kurtosisValue_dec_33     float64\n",
       "tqwt_kurtosisValue_dec_34     float64\n",
       "tqwt_kurtosisValue_dec_35     float64\n",
       "tqwt_kurtosisValue_dec_36     float64\n",
       "class                        category\n",
       "Length: 755, dtype: object"
      ]
     },
     "execution_count": 7,
     "metadata": {},
     "output_type": "execute_result"
    }
   ],
   "source": [
    "pd_speech_features =  pd_speech_features.astype(float) #per default all floats \n",
    "pd_speech_features[['id', 'numPulses', 'numPeriodsPulses']] = pd_speech_features[['id', 'numPulses', 'numPeriodsPulses']].astype(int) #ints\n",
    "pd_speech_features[['gender', 'class']] = pd_speech_features[['gender', 'class']].astype('category') #categoricals\n",
    "pd_speech_features.dtypes"
   ]
  },
  {
   "cell_type": "code",
   "execution_count": 8,
   "metadata": {
    "id": "WBwpHHK3rur9"
   },
   "outputs": [
    {
     "data": {
      "text/html": [
       "<div>\n",
       "<style scoped>\n",
       "    .dataframe tbody tr th:only-of-type {\n",
       "        vertical-align: middle;\n",
       "    }\n",
       "\n",
       "    .dataframe tbody tr th {\n",
       "        vertical-align: top;\n",
       "    }\n",
       "\n",
       "    .dataframe thead th {\n",
       "        text-align: right;\n",
       "    }\n",
       "</style>\n",
       "<table border=\"1\" class=\"dataframe\">\n",
       "  <thead>\n",
       "    <tr style=\"text-align: right;\">\n",
       "      <th></th>\n",
       "      <th>gender</th>\n",
       "      <th>PPE</th>\n",
       "      <th>DFA</th>\n",
       "      <th>RPDE</th>\n",
       "      <th>numPulses</th>\n",
       "      <th>numPeriodsPulses</th>\n",
       "      <th>meanPeriodPulses</th>\n",
       "      <th>stdDevPeriodPulses</th>\n",
       "      <th>locPctJitter</th>\n",
       "      <th>locAbsJitter</th>\n",
       "      <th>...</th>\n",
       "      <th>app_LT_TKEO_std_1_coef</th>\n",
       "      <th>app_LT_TKEO_std_2_coef</th>\n",
       "      <th>app_LT_TKEO_std_3_coef</th>\n",
       "      <th>app_LT_TKEO_std_4_coef</th>\n",
       "      <th>app_LT_TKEO_std_5_coef</th>\n",
       "      <th>app_LT_TKEO_std_6_coef</th>\n",
       "      <th>app_LT_TKEO_std_7_coef</th>\n",
       "      <th>app_LT_TKEO_std_8_coef</th>\n",
       "      <th>app_LT_TKEO_std_9_coef</th>\n",
       "      <th>app_LT_TKEO_std_10_coef</th>\n",
       "    </tr>\n",
       "  </thead>\n",
       "  <tbody>\n",
       "    <tr>\n",
       "      <th>1</th>\n",
       "      <td>1.0</td>\n",
       "      <td>0.85247</td>\n",
       "      <td>0.71826</td>\n",
       "      <td>0.57227</td>\n",
       "      <td>240</td>\n",
       "      <td>239</td>\n",
       "      <td>0.008064</td>\n",
       "      <td>0.000087</td>\n",
       "      <td>0.00218</td>\n",
       "      <td>0.000018</td>\n",
       "      <td>...</td>\n",
       "      <td>6.2990</td>\n",
       "      <td>16.7003</td>\n",
       "      <td>42.0762</td>\n",
       "      <td>101.0889</td>\n",
       "      <td>228.8489</td>\n",
       "      <td>493.8563</td>\n",
       "      <td>1015.7707</td>\n",
       "      <td>2091.9460</td>\n",
       "      <td>4188.2456</td>\n",
       "      <td>8373.9278</td>\n",
       "    </tr>\n",
       "    <tr>\n",
       "      <th>2</th>\n",
       "      <td>1.0</td>\n",
       "      <td>0.76686</td>\n",
       "      <td>0.69481</td>\n",
       "      <td>0.53966</td>\n",
       "      <td>234</td>\n",
       "      <td>233</td>\n",
       "      <td>0.008258</td>\n",
       "      <td>0.000073</td>\n",
       "      <td>0.00195</td>\n",
       "      <td>0.000016</td>\n",
       "      <td>...</td>\n",
       "      <td>6.2381</td>\n",
       "      <td>16.5376</td>\n",
       "      <td>41.7306</td>\n",
       "      <td>100.0918</td>\n",
       "      <td>226.9019</td>\n",
       "      <td>489.9169</td>\n",
       "      <td>1006.3702</td>\n",
       "      <td>2074.4541</td>\n",
       "      <td>4148.9889</td>\n",
       "      <td>8298.1606</td>\n",
       "    </tr>\n",
       "    <tr>\n",
       "      <th>3</th>\n",
       "      <td>1.0</td>\n",
       "      <td>0.85083</td>\n",
       "      <td>0.67604</td>\n",
       "      <td>0.58982</td>\n",
       "      <td>232</td>\n",
       "      <td>231</td>\n",
       "      <td>0.008340</td>\n",
       "      <td>0.000060</td>\n",
       "      <td>0.00176</td>\n",
       "      <td>0.000015</td>\n",
       "      <td>...</td>\n",
       "      <td>6.2163</td>\n",
       "      <td>16.4817</td>\n",
       "      <td>41.4869</td>\n",
       "      <td>99.6154</td>\n",
       "      <td>225.7803</td>\n",
       "      <td>486.9865</td>\n",
       "      <td>1001.7348</td>\n",
       "      <td>2064.1067</td>\n",
       "      <td>4127.0967</td>\n",
       "      <td>8254.7868</td>\n",
       "    </tr>\n",
       "    <tr>\n",
       "      <th>4</th>\n",
       "      <td>0.0</td>\n",
       "      <td>0.41121</td>\n",
       "      <td>0.79672</td>\n",
       "      <td>0.59257</td>\n",
       "      <td>178</td>\n",
       "      <td>177</td>\n",
       "      <td>0.010858</td>\n",
       "      <td>0.000183</td>\n",
       "      <td>0.00419</td>\n",
       "      <td>0.000046</td>\n",
       "      <td>...</td>\n",
       "      <td>6.7833</td>\n",
       "      <td>16.8216</td>\n",
       "      <td>41.3157</td>\n",
       "      <td>94.4579</td>\n",
       "      <td>211.1565</td>\n",
       "      <td>443.3447</td>\n",
       "      <td>955.8128</td>\n",
       "      <td>1890.1299</td>\n",
       "      <td>3910.7029</td>\n",
       "      <td>7698.9389</td>\n",
       "    </tr>\n",
       "    <tr>\n",
       "      <th>5</th>\n",
       "      <td>0.0</td>\n",
       "      <td>0.32790</td>\n",
       "      <td>0.79782</td>\n",
       "      <td>0.53028</td>\n",
       "      <td>236</td>\n",
       "      <td>235</td>\n",
       "      <td>0.008162</td>\n",
       "      <td>0.002669</td>\n",
       "      <td>0.00535</td>\n",
       "      <td>0.000044</td>\n",
       "      <td>...</td>\n",
       "      <td>6.9366</td>\n",
       "      <td>18.3595</td>\n",
       "      <td>46.2704</td>\n",
       "      <td>108.6792</td>\n",
       "      <td>244.0607</td>\n",
       "      <td>541.2414</td>\n",
       "      <td>1057.2566</td>\n",
       "      <td>2242.5460</td>\n",
       "      <td>4297.4639</td>\n",
       "      <td>8645.2845</td>\n",
       "    </tr>\n",
       "  </tbody>\n",
       "</table>\n",
       "<p>5 rows × 321 columns</p>\n",
       "</div>"
      ],
      "text/plain": [
       "0 gender      PPE      DFA     RPDE  numPulses  numPeriodsPulses  \\\n",
       "1    1.0  0.85247  0.71826  0.57227        240               239   \n",
       "2    1.0  0.76686  0.69481  0.53966        234               233   \n",
       "3    1.0  0.85083  0.67604  0.58982        232               231   \n",
       "4    0.0  0.41121  0.79672  0.59257        178               177   \n",
       "5    0.0  0.32790  0.79782  0.53028        236               235   \n",
       "\n",
       "0  meanPeriodPulses  stdDevPeriodPulses  locPctJitter  locAbsJitter  ...  \\\n",
       "1          0.008064            0.000087       0.00218      0.000018  ...   \n",
       "2          0.008258            0.000073       0.00195      0.000016  ...   \n",
       "3          0.008340            0.000060       0.00176      0.000015  ...   \n",
       "4          0.010858            0.000183       0.00419      0.000046  ...   \n",
       "5          0.008162            0.002669       0.00535      0.000044  ...   \n",
       "\n",
       "0  app_LT_TKEO_std_1_coef  app_LT_TKEO_std_2_coef  app_LT_TKEO_std_3_coef  \\\n",
       "1                  6.2990                 16.7003                 42.0762   \n",
       "2                  6.2381                 16.5376                 41.7306   \n",
       "3                  6.2163                 16.4817                 41.4869   \n",
       "4                  6.7833                 16.8216                 41.3157   \n",
       "5                  6.9366                 18.3595                 46.2704   \n",
       "\n",
       "0  app_LT_TKEO_std_4_coef  app_LT_TKEO_std_5_coef  app_LT_TKEO_std_6_coef  \\\n",
       "1                101.0889                228.8489                493.8563   \n",
       "2                100.0918                226.9019                489.9169   \n",
       "3                 99.6154                225.7803                486.9865   \n",
       "4                 94.4579                211.1565                443.3447   \n",
       "5                108.6792                244.0607                541.2414   \n",
       "\n",
       "0  app_LT_TKEO_std_7_coef  app_LT_TKEO_std_8_coef  app_LT_TKEO_std_9_coef  \\\n",
       "1               1015.7707               2091.9460               4188.2456   \n",
       "2               1006.3702               2074.4541               4148.9889   \n",
       "3               1001.7348               2064.1067               4127.0967   \n",
       "4                955.8128               1890.1299               3910.7029   \n",
       "5               1057.2566               2242.5460               4297.4639   \n",
       "\n",
       "0  app_LT_TKEO_std_10_coef  \n",
       "1                8373.9278  \n",
       "2                8298.1606  \n",
       "3                8254.7868  \n",
       "4                7698.9389  \n",
       "5                8645.2845  \n",
       "\n",
       "[5 rows x 321 columns]"
      ]
     },
     "execution_count": 8,
     "metadata": {},
     "output_type": "execute_result"
    }
   ],
   "source": [
    "pd_speech_features_no_tqwt = pd_speech_features[pd_speech_features.columns[1: -433]]\n",
    "pd_speech_features_no_tqwt.head()"
   ]
  },
  {
   "cell_type": "code",
   "execution_count": 9,
   "metadata": {},
   "outputs": [],
   "source": [
    "df=pd_speech_features"
   ]
  },
  {
   "cell_type": "code",
   "execution_count": 10,
   "metadata": {},
   "outputs": [],
   "source": [
    "class Htest:\n",
    "    def __init__(self, population_mean_diff=0, p=0.05, cls_names='class', test_type='z_test'):\n",
    "        \n",
    "        '''\n",
    "            cls_vals=target class values\n",
    "            p=confidence interval, default=0.05\n",
    "            \n",
    "            population_mean_diff: \n",
    "                        H0(null hypothesis): difference of population mean over feature F, default=0\n",
    "            \n",
    "            cls_names=sample classes\n",
    "            \n",
    "            test_type: what kind of hypothesis testing\n",
    "                            \n",
    "        '''\n",
    "        \n",
    "        self.p=p\n",
    "        self.cls=cls_names\n",
    "        self.population_mean_diff=population_mean_diff\n",
    "        \n",
    "    def z_test(self, df1, df2, threshold_val=1.96, show_top=1):\n",
    "        '''\n",
    "        Assumptions:\n",
    "                    1. sample size=population size\n",
    "                    2. normal distribution\n",
    "        input:\n",
    "                df1=dataframe of numerical features of sample1\n",
    "                df2=dataframe of numerical features of sample2\n",
    "                threshold_val= z score of 1.96 for 95% confidence(p<0.05)\n",
    "        '''\n",
    "        self.df1=df1\n",
    "        self.df2=df2\n",
    "        \n",
    "        std_error1=(self.df1.std().pow(2.))/self.df1.shape[0]\n",
    "        std_error2=(self.df2.std().pow(2.))/self.df2.shape[0]\n",
    "        \n",
    "        denominator=(std_error1+std_error2).pow(1./2)\n",
    "        \n",
    "        nominator=(self.df1.mean()-self.df2.mean())\\\n",
    "                    -self.population_mean_diff\n",
    "        \n",
    "        z_scores=nominator/denominator\n",
    "        feature_z=z_scores[z_scores.abs()>threshold_val].abs()\n",
    "        \n",
    "        return feature_z\n",
    "        "
   ]
  },
  {
   "cell_type": "code",
   "execution_count": 11,
   "metadata": {},
   "outputs": [],
   "source": [
    "htest=Htest()"
   ]
  },
  {
   "cell_type": "code",
   "execution_count": 12,
   "metadata": {},
   "outputs": [],
   "source": [
    "df1=df[(df['gender']==0) & (df['class']==1)].drop(['gender','id','class'],axis=1)\n",
    "df2=df[(df['gender']==1) & (df['class']==1)].drop(['gender','id','class'],axis=1)"
   ]
  },
  {
   "cell_type": "code",
   "execution_count": 13,
   "metadata": {},
   "outputs": [
    {
     "data": {
      "text/plain": [
       "(332,)"
      ]
     },
     "execution_count": 13,
     "metadata": {},
     "output_type": "execute_result"
    }
   ],
   "source": [
    "fp=htest.z_test(df1,df2)\n",
    "fp.shape"
   ]
  },
  {
   "cell_type": "code",
   "execution_count": 32,
   "metadata": {},
   "outputs": [],
   "source": [
    "normal_features=[]\n",
    "\n",
    "for i,j in zip(df.skew().between(-1,1., inclusive=True).index,df.skew().between(-1,1, inclusive=True).values): \n",
    "    if j==True:\n",
    "        #print(i,' ',j)\n",
    "        normal_features.append(i)"
   ]
  },
  {
   "cell_type": "code",
   "execution_count": 33,
   "metadata": {},
   "outputs": [],
   "source": [
    "normal_features.append('gender')\n",
    "normal_features.append('class')"
   ]
  },
  {
   "cell_type": "code",
   "execution_count": 34,
   "metadata": {},
   "outputs": [],
   "source": [
    "dfn=df.loc[:,normal_features]"
   ]
  },
  {
   "cell_type": "code",
   "execution_count": 17,
   "metadata": {
    "collapsed": true
   },
   "outputs": [
    {
     "data": {
      "text/plain": [
       "['id',\n",
       " 'DFA',\n",
       " 'RPDE',\n",
       " 'numPulses',\n",
       " 'numPeriodsPulses',\n",
       " 'meanPeriodPulses',\n",
       " 'meanHarmToNoiseHarmonicity',\n",
       " 'f1',\n",
       " 'f2',\n",
       " 'f3',\n",
       " 'f4',\n",
       " 'GNE_SNR_SEO',\n",
       " 'GNE_NSR_SEO',\n",
       " 'VFER_NSR_TKEO',\n",
       " 'VFER_NSR_SEO',\n",
       " 'IMF_NSR_SEO',\n",
       " 'IMF_NSR_entropy',\n",
       " 'mean_MFCC_0th_coef',\n",
       " 'mean_MFCC_1st_coef',\n",
       " 'mean_MFCC_2nd_coef',\n",
       " 'mean_MFCC_3rd_coef',\n",
       " 'mean_MFCC_4th_coef',\n",
       " 'mean_MFCC_5th_coef',\n",
       " 'mean_MFCC_6th_coef',\n",
       " 'mean_MFCC_7th_coef',\n",
       " 'mean_MFCC_8th_coef',\n",
       " 'mean_MFCC_9th_coef',\n",
       " 'mean_MFCC_10th_coef',\n",
       " 'mean_MFCC_11th_coef',\n",
       " 'mean_MFCC_12th_coef',\n",
       " 'mean_1st_delta',\n",
       " 'mean_2nd_delta',\n",
       " 'mean_3rd_delta',\n",
       " 'mean_4th_delta',\n",
       " 'mean_5th_delta',\n",
       " 'mean_7th_delta',\n",
       " 'mean_8th_delta',\n",
       " 'mean_9th_delta',\n",
       " 'mean_10th_delta',\n",
       " 'mean_11th_delta',\n",
       " 'mean_12th_delta',\n",
       " 'mean_1st_delta_delta',\n",
       " 'mean_2nd_delta_delta',\n",
       " 'mean_3rd_delta_delta',\n",
       " 'mean_4th_delta_delta',\n",
       " 'mean_5th_delta_delta',\n",
       " 'mean_6th_delta_delta',\n",
       " 'mean_8th_delta_delta',\n",
       " 'mean_9th_delta_delta',\n",
       " 'mean_10th_delta_delta',\n",
       " 'mean_11th_delta_delta',\n",
       " 'mean_12th_delta_delta',\n",
       " 'std_MFCC_9th_coef',\n",
       " 'std_MFCC_10th_coef',\n",
       " 'std_MFCC_12th_coef',\n",
       " 'std_8th_delta',\n",
       " 'std_9th_delta',\n",
       " 'std_10th_delta',\n",
       " 'std_11th_delta',\n",
       " 'std_12th_delta',\n",
       " 'std_6th_delta_delta',\n",
       " 'std_8th_delta_delta',\n",
       " 'std_9th_delta_delta',\n",
       " 'std_10th_delta_delta',\n",
       " 'std_11th_delta_delta',\n",
       " 'std_12th_delta_delta',\n",
       " 'det_entropy_log_1_coef',\n",
       " 'det_entropy_log_7_coef',\n",
       " 'det_entropy_log_8_coef',\n",
       " 'det_entropy_log_9_coef',\n",
       " 'det_entropy_log_10_coef',\n",
       " 'app_entropy_log_5_coef',\n",
       " 'app_entropy_log_6_coef',\n",
       " 'app_entropy_log_7_coef',\n",
       " 'app_entropy_log_8_coef',\n",
       " 'app_entropy_log_9_coef',\n",
       " 'app_entropy_log_10_coef',\n",
       " 'det_LT_entropy_log_1_coef',\n",
       " 'det_LT_entropy_log_8_coef',\n",
       " 'det_LT_entropy_log_9_coef',\n",
       " 'det_LT_entropy_log_10_coef',\n",
       " 'app_LT_entropy_shannon_1_coef',\n",
       " 'app_LT_entropy_shannon_2_coef',\n",
       " 'app_LT_entropy_shannon_3_coef',\n",
       " 'app_LT_entropy_shannon_4_coef',\n",
       " 'app_LT_entropy_shannon_5_coef',\n",
       " 'app_LT_entropy_shannon_6_coef',\n",
       " 'app_LT_entropy_shannon_7_coef',\n",
       " 'app_LT_entropy_shannon_8_coef',\n",
       " 'app_LT_entropy_shannon_9_coef',\n",
       " 'app_LT_entropy_shannon_10_coef',\n",
       " 'app_LT_entropy_log_7_coef',\n",
       " 'app_LT_entropy_log_8_coef',\n",
       " 'app_LT_entropy_log_9_coef',\n",
       " 'app_LT_entropy_log_10_coef',\n",
       " 'app_LT_TKEO_mean_3_coef',\n",
       " 'app_LT_TKEO_mean_4_coef',\n",
       " 'app_LT_TKEO_mean_5_coef',\n",
       " 'app_LT_TKEO_mean_6_coef',\n",
       " 'app_LT_TKEO_mean_7_coef',\n",
       " 'app_LT_TKEO_mean_8_coef',\n",
       " 'app_LT_TKEO_mean_9_coef',\n",
       " 'app_LT_TKEO_mean_10_coef',\n",
       " 'app_LT_TKEO_std_1_coef',\n",
       " 'app_LT_TKEO_std_2_coef',\n",
       " 'app_LT_TKEO_std_3_coef',\n",
       " 'app_LT_TKEO_std_4_coef',\n",
       " 'app_LT_TKEO_std_5_coef',\n",
       " 'app_LT_TKEO_std_6_coef',\n",
       " 'app_LT_TKEO_std_7_coef',\n",
       " 'app_LT_TKEO_std_8_coef',\n",
       " 'app_LT_TKEO_std_9_coef',\n",
       " 'app_LT_TKEO_std_10_coef',\n",
       " 'tqwt_energy_dec_17',\n",
       " 'tqwt_energy_dec_18',\n",
       " 'tqwt_entropy_shannon_dec_15',\n",
       " 'tqwt_entropy_shannon_dec_16',\n",
       " 'tqwt_entropy_shannon_dec_17',\n",
       " 'tqwt_entropy_shannon_dec_18',\n",
       " 'tqwt_entropy_shannon_dec_19',\n",
       " 'tqwt_entropy_shannon_dec_20',\n",
       " 'tqwt_entropy_shannon_dec_21',\n",
       " 'tqwt_entropy_shannon_dec_22',\n",
       " 'tqwt_entropy_log_dec_8',\n",
       " 'tqwt_entropy_log_dec_9',\n",
       " 'tqwt_entropy_log_dec_10',\n",
       " 'tqwt_entropy_log_dec_11',\n",
       " 'tqwt_entropy_log_dec_12',\n",
       " 'tqwt_entropy_log_dec_13',\n",
       " 'tqwt_entropy_log_dec_14',\n",
       " 'tqwt_entropy_log_dec_21',\n",
       " 'tqwt_entropy_log_dec_24',\n",
       " 'tqwt_entropy_log_dec_26',\n",
       " 'tqwt_entropy_log_dec_27',\n",
       " 'tqwt_entropy_log_dec_28',\n",
       " 'tqwt_entropy_log_dec_29',\n",
       " 'tqwt_entropy_log_dec_30',\n",
       " 'tqwt_entropy_log_dec_31',\n",
       " 'tqwt_entropy_log_dec_32',\n",
       " 'tqwt_entropy_log_dec_33',\n",
       " 'tqwt_entropy_log_dec_34',\n",
       " 'tqwt_entropy_log_dec_35',\n",
       " 'tqwt_entropy_log_dec_36',\n",
       " 'tqwt_medianValue_dec_4',\n",
       " 'tqwt_medianValue_dec_6',\n",
       " 'tqwt_medianValue_dec_7',\n",
       " 'tqwt_medianValue_dec_9',\n",
       " 'tqwt_medianValue_dec_12',\n",
       " 'tqwt_medianValue_dec_13',\n",
       " 'tqwt_medianValue_dec_14',\n",
       " 'tqwt_medianValue_dec_16',\n",
       " 'tqwt_medianValue_dec_18',\n",
       " 'tqwt_medianValue_dec_21',\n",
       " 'tqwt_medianValue_dec_22',\n",
       " 'tqwt_medianValue_dec_25',\n",
       " 'tqwt_medianValue_dec_27',\n",
       " 'tqwt_medianValue_dec_33',\n",
       " 'tqwt_medianValue_dec_34',\n",
       " 'tqwt_medianValue_dec_36',\n",
       " 'tqwt_meanValue_dec_1',\n",
       " 'tqwt_meanValue_dec_2',\n",
       " 'tqwt_meanValue_dec_3',\n",
       " 'tqwt_meanValue_dec_4',\n",
       " 'tqwt_meanValue_dec_5',\n",
       " 'tqwt_meanValue_dec_6',\n",
       " 'tqwt_meanValue_dec_7',\n",
       " 'tqwt_meanValue_dec_8',\n",
       " 'tqwt_meanValue_dec_9',\n",
       " 'tqwt_meanValue_dec_10',\n",
       " 'tqwt_meanValue_dec_11',\n",
       " 'tqwt_meanValue_dec_12',\n",
       " 'tqwt_meanValue_dec_13',\n",
       " 'tqwt_meanValue_dec_14',\n",
       " 'tqwt_meanValue_dec_15',\n",
       " 'tqwt_meanValue_dec_16',\n",
       " 'tqwt_meanValue_dec_17',\n",
       " 'tqwt_meanValue_dec_18',\n",
       " 'tqwt_meanValue_dec_19',\n",
       " 'tqwt_meanValue_dec_20',\n",
       " 'tqwt_meanValue_dec_21',\n",
       " 'tqwt_meanValue_dec_22',\n",
       " 'tqwt_meanValue_dec_23',\n",
       " 'tqwt_meanValue_dec_24',\n",
       " 'tqwt_meanValue_dec_25',\n",
       " 'tqwt_meanValue_dec_26',\n",
       " 'tqwt_meanValue_dec_27',\n",
       " 'tqwt_meanValue_dec_28',\n",
       " 'tqwt_meanValue_dec_29',\n",
       " 'tqwt_meanValue_dec_30',\n",
       " 'tqwt_meanValue_dec_31',\n",
       " 'tqwt_meanValue_dec_32',\n",
       " 'tqwt_meanValue_dec_33',\n",
       " 'tqwt_meanValue_dec_34',\n",
       " 'tqwt_meanValue_dec_35',\n",
       " 'tqwt_stdValue_dec_15',\n",
       " 'tqwt_stdValue_dec_16',\n",
       " 'tqwt_stdValue_dec_17',\n",
       " 'tqwt_stdValue_dec_18',\n",
       " 'tqwt_minValue_dec_14',\n",
       " 'tqwt_minValue_dec_15',\n",
       " 'tqwt_minValue_dec_16',\n",
       " 'tqwt_minValue_dec_17',\n",
       " 'tqwt_minValue_dec_18',\n",
       " 'tqwt_minValue_dec_19',\n",
       " 'tqwt_maxValue_dec_14',\n",
       " 'tqwt_maxValue_dec_15',\n",
       " 'tqwt_maxValue_dec_16',\n",
       " 'tqwt_maxValue_dec_17',\n",
       " 'tqwt_maxValue_dec_18',\n",
       " 'tqwt_maxValue_dec_19',\n",
       " 'tqwt_skewnessValue_dec_1',\n",
       " 'tqwt_skewnessValue_dec_2',\n",
       " 'tqwt_skewnessValue_dec_4',\n",
       " 'tqwt_skewnessValue_dec_13',\n",
       " 'tqwt_skewnessValue_dec_15',\n",
       " 'tqwt_skewnessValue_dec_23',\n",
       " 'tqwt_skewnessValue_dec_27',\n",
       " 'tqwt_skewnessValue_dec_28',\n",
       " 'tqwt_skewnessValue_dec_29',\n",
       " 'tqwt_skewnessValue_dec_30',\n",
       " 'tqwt_skewnessValue_dec_31',\n",
       " 'tqwt_skewnessValue_dec_32',\n",
       " 'tqwt_skewnessValue_dec_33',\n",
       " 'tqwt_skewnessValue_dec_34',\n",
       " 'tqwt_skewnessValue_dec_35',\n",
       " 'tqwt_skewnessValue_dec_36',\n",
       " 'tqwt_kurtosisValue_dec_36',\n",
       " 'gender',\n",
       " 'class']"
      ]
     },
     "execution_count": 17,
     "metadata": {},
     "output_type": "execute_result"
    }
   ],
   "source": [
    "dfn.columns.to_list()"
   ]
  },
  {
   "cell_type": "code",
   "execution_count": 35,
   "metadata": {},
   "outputs": [],
   "source": [
    "df1=dfn[(dfn['gender']==0) & (dfn['class']==1)].drop(['gender','id','class'],axis=1)\n",
    "df2=dfn[(dfn['gender']==1) & (dfn['class']==1)].drop(['gender','id','class'],axis=1)"
   ]
  },
  {
   "cell_type": "code",
   "execution_count": 37,
   "metadata": {},
   "outputs": [],
   "source": [
    "fg=htest.z_test(df1,df2)"
   ]
  },
  {
   "cell_type": "code",
   "execution_count": 38,
   "metadata": {},
   "outputs": [
    {
     "data": {
      "text/plain": [
       "(95,)"
      ]
     },
     "execution_count": 38,
     "metadata": {},
     "output_type": "execute_result"
    }
   ],
   "source": [
    "fg.shape"
   ]
  },
  {
   "cell_type": "code",
   "execution_count": 39,
   "metadata": {},
   "outputs": [
    {
     "data": {
      "text/plain": [
       "0\n",
       "app_LT_entropy_shannon_3_coef     16.999996\n",
       "app_LT_entropy_shannon_2_coef     16.946003\n",
       "app_LT_entropy_shannon_4_coef     16.943117\n",
       "app_LT_entropy_shannon_1_coef     16.861116\n",
       "app_LT_TKEO_std_9_coef            16.783765\n",
       "app_entropy_log_6_coef            16.770024\n",
       "app_LT_entropy_shannon_5_coef     16.751841\n",
       "app_entropy_log_7_coef            16.714299\n",
       "app_LT_TKEO_std_7_coef            16.644014\n",
       "app_entropy_log_5_coef            16.588256\n",
       "app_LT_TKEO_std_10_coef           16.579911\n",
       "app_LT_entropy_shannon_6_coef     16.502967\n",
       "app_LT_TKEO_mean_10_coef          16.479578\n",
       "app_LT_TKEO_mean_9_coef           16.449697\n",
       "app_LT_TKEO_mean_8_coef           16.435172\n",
       "app_entropy_log_10_coef           16.417442\n",
       "app_entropy_log_9_coef            16.395183\n",
       "app_entropy_log_8_coef            16.385684\n",
       "app_LT_entropy_shannon_7_coef     16.377921\n",
       "app_LT_TKEO_std_8_coef            16.335716\n",
       "app_LT_TKEO_std_4_coef            16.202648\n",
       "app_LT_entropy_shannon_8_coef     16.167823\n",
       "app_LT_entropy_shannon_9_coef     16.165515\n",
       "app_LT_entropy_shannon_10_coef    16.159483\n",
       "app_LT_TKEO_mean_7_coef           16.134279\n",
       "app_LT_TKEO_std_6_coef            16.091082\n",
       "app_LT_TKEO_std_3_coef            16.085057\n",
       "app_LT_TKEO_mean_6_coef           15.944548\n",
       "app_LT_TKEO_std_5_coef            15.931700\n",
       "app_LT_entropy_log_10_coef        15.876708\n",
       "app_LT_entropy_log_9_coef         15.871300\n",
       "app_LT_entropy_log_8_coef         15.869810\n",
       "app_LT_entropy_log_7_coef         15.757686\n",
       "app_LT_TKEO_mean_5_coef           15.462309\n",
       "app_LT_TKEO_std_2_coef            15.392601\n",
       "mean_MFCC_9th_coef                14.839556\n",
       "app_LT_TKEO_std_1_coef            14.651580\n",
       "app_LT_TKEO_mean_4_coef           14.489485\n",
       "tqwt_entropy_log_dec_27           14.388216\n",
       "app_LT_TKEO_mean_3_coef           13.144410\n",
       "f2                                12.218206\n",
       "f1                                12.156030\n",
       "tqwt_entropy_log_dec_28           11.082130\n",
       "numPulses                         10.914877\n",
       "numPeriodsPulses                  10.850545\n",
       "mean_MFCC_3rd_coef                10.591810\n",
       "mean_MFCC_10th_coef               10.306093\n",
       "meanPeriodPulses                   9.918548\n",
       "tqwt_entropy_log_dec_26            8.507290\n",
       "det_entropy_log_1_coef             8.274533\n",
       "dtype: float64"
      ]
     },
     "execution_count": 39,
     "metadata": {},
     "output_type": "execute_result"
    }
   ],
   "source": [
    "fg.sort_values(ascending=False).head(50)"
   ]
  },
  {
   "cell_type": "code",
   "execution_count": 22,
   "metadata": {},
   "outputs": [],
   "source": [
    "df1=dfn[(dfn['class']==0)].drop(['gender','id','class'],axis=1)\n",
    "df2=dfn[(dfn['class']==1)].drop(['gender','id','class'],axis=1)"
   ]
  },
  {
   "cell_type": "code",
   "execution_count": 23,
   "metadata": {},
   "outputs": [],
   "source": [
    "fp=htest.z_test(df1,df2)"
   ]
  },
  {
   "cell_type": "code",
   "execution_count": 24,
   "metadata": {},
   "outputs": [
    {
     "data": {
      "text/plain": [
       "0\n",
       "DFA                          8.891309\n",
       "RPDE                         7.028783\n",
       "numPulses                    7.070892\n",
       "numPeriodsPulses             7.090547\n",
       "meanPeriodPulses             5.505576\n",
       "                               ...   \n",
       "tqwt_maxValue_dec_16         7.571182\n",
       "tqwt_maxValue_dec_17         5.462049\n",
       "tqwt_maxValue_dec_18         2.830251\n",
       "tqwt_skewnessValue_dec_28    2.121591\n",
       "tqwt_kurtosisValue_dec_36    9.697527\n",
       "Length: 128, dtype: float64"
      ]
     },
     "execution_count": 24,
     "metadata": {},
     "output_type": "execute_result"
    }
   ],
   "source": [
    "fp"
   ]
  },
  {
   "cell_type": "code",
   "execution_count": 25,
   "metadata": {},
   "outputs": [
    {
     "data": {
      "text/plain": [
       "(128,)"
      ]
     },
     "execution_count": 25,
     "metadata": {},
     "output_type": "execute_result"
    }
   ],
   "source": [
    "fp.shape"
   ]
  },
  {
   "cell_type": "code",
   "execution_count": 26,
   "metadata": {},
   "outputs": [
    {
     "data": {
      "text/plain": [
       "0\n",
       "std_8th_delta_delta            13.809746\n",
       "std_9th_delta_delta            13.725554\n",
       "std_6th_delta_delta            13.718478\n",
       "std_10th_delta_delta           12.576544\n",
       "std_11th_delta_delta           12.426792\n",
       "tqwt_entropy_log_dec_12        12.269921\n",
       "std_8th_delta                  12.243678\n",
       "std_9th_delta                  12.036063\n",
       "std_10th_delta                 11.203688\n",
       "std_11th_delta                 11.147667\n",
       "tqwt_entropy_log_dec_13        11.130468\n",
       "mean_MFCC_2nd_coef             10.782389\n",
       "tqwt_entropy_log_dec_11        10.641208\n",
       "std_12th_delta_delta           10.197717\n",
       "tqwt_entropy_log_dec_14         9.989655\n",
       "tqwt_entropy_log_dec_8          9.854034\n",
       "tqwt_kurtosisValue_dec_36       9.697527\n",
       "tqwt_entropy_log_dec_9          9.381163\n",
       "tqwt_entropy_shannon_dec_17     9.331510\n",
       "std_12th_delta                  9.222778\n",
       "tqwt_entropy_shannon_dec_16     9.192519\n",
       "tqwt_entropy_log_dec_10         9.106833\n",
       "DFA                             8.891309\n",
       "tqwt_stdValue_dec_16            8.839733\n",
       "f1                              8.826654\n",
       "tqwt_stdValue_dec_15            8.795332\n",
       "tqwt_maxValue_dec_14            8.617826\n",
       "tqwt_minValue_dec_14            8.591862\n",
       "tqwt_entropy_shannon_dec_15     8.563190\n",
       "tqwt_entropy_log_dec_35         8.013878\n",
       "tqwt_entropy_log_dec_34         7.862398\n",
       "tqwt_minValue_dec_15            7.713650\n",
       "tqwt_maxValue_dec_15            7.693269\n",
       "tqwt_maxValue_dec_16            7.571182\n",
       "tqwt_minValue_dec_16            7.467436\n",
       "tqwt_stdValue_dec_17            7.337441\n",
       "tqwt_entropy_log_dec_27         7.235531\n",
       "numPeriodsPulses                7.090547\n",
       "numPulses                       7.070892\n",
       "app_LT_TKEO_std_7_coef          7.040792\n",
       "RPDE                            7.028783\n",
       "app_LT_TKEO_mean_7_coef         6.958431\n",
       "app_LT_TKEO_std_8_coef          6.956779\n",
       "app_LT_TKEO_mean_8_coef         6.923842\n",
       "app_LT_TKEO_mean_9_coef         6.922841\n",
       "app_LT_TKEO_mean_6_coef         6.922296\n",
       "app_LT_TKEO_mean_10_coef        6.908523\n",
       "app_LT_TKEO_mean_5_coef         6.906780\n",
       "app_LT_TKEO_std_5_coef          6.905450\n",
       "app_LT_TKEO_std_10_coef         6.900517\n",
       "dtype: float64"
      ]
     },
     "execution_count": 26,
     "metadata": {},
     "output_type": "execute_result"
    }
   ],
   "source": [
    "fp.sort_values(ascending=False).head(50)"
   ]
  },
  {
   "cell_type": "code",
   "execution_count": 50,
   "metadata": {},
   "outputs": [],
   "source": [
    "ftrs=list(set(fp.index)-(set(fp.index)-set(fg.index)))\n",
    "ftrs.append('class')"
   ]
  },
  {
   "cell_type": "code",
   "execution_count": 53,
   "metadata": {},
   "outputs": [],
   "source": [
    "train_df=df[ftrs].values\n",
    "x_train=train_df[:,:-1]\n",
    "y_train=train_df[:,-1]"
   ]
  },
  {
   "cell_type": "code",
   "execution_count": 75,
   "metadata": {},
   "outputs": [],
   "source": [
    "df[ftrs].to_csv('Commonly_important_features.csv')"
   ]
  },
  {
   "cell_type": "code",
   "execution_count": 55,
   "metadata": {},
   "outputs": [],
   "source": [
    "from sklearn.preprocessing import StandardScaler\n",
    "sc = StandardScaler()\n",
    "x_train= sc.fit_transform(x_train)\n",
    "#newly added\n",
    "kfold=KFold(10, shuffle=True, random_state=10)"
   ]
  },
  {
   "cell_type": "code",
   "execution_count": 63,
   "metadata": {},
   "outputs": [],
   "source": [
    "def svm_model(X,y, kfold):\n",
    "    params={'C':[0.1, 1, 10, 100, 1000], 'gamma':[1, 0.1, 0.01, 0.001, 0.0001], 'kernel':['rbf']}\n",
    "\n",
    "    grid=GridSearchCV(svm.SVC(probability=True, random_state=10),params,cv=kfold, refit=True, verbose=1)\n",
    "    grid.fit(X,y)\n",
    "    \n",
    "    return grid"
   ]
  },
  {
   "cell_type": "code",
   "execution_count": 64,
   "metadata": {},
   "outputs": [
    {
     "name": "stdout",
     "output_type": "stream",
     "text": [
      "Fitting 10 folds for each of 25 candidates, totalling 250 fits\n"
     ]
    }
   ],
   "source": [
    "grid=svm_model(x_train, y_train,kfold)"
   ]
  },
  {
   "cell_type": "code",
   "execution_count": 65,
   "metadata": {},
   "outputs": [
    {
     "data": {
      "text/plain": [
       "{'C': 1000, 'gamma': 0.01, 'kernel': 'rbf'}"
      ]
     },
     "execution_count": 65,
     "metadata": {},
     "output_type": "execute_result"
    }
   ],
   "source": [
    "grid.best_params_"
   ]
  },
  {
   "cell_type": "code",
   "execution_count": 66,
   "metadata": {},
   "outputs": [
    {
     "data": {
      "text/plain": [
       "0.9141052631578948"
      ]
     },
     "execution_count": 66,
     "metadata": {},
     "output_type": "execute_result"
    }
   ],
   "source": [
    "grid.best_score_"
   ]
  },
  {
   "cell_type": "code",
   "execution_count": 67,
   "metadata": {
    "collapsed": true
   },
   "outputs": [
    {
     "data": {
      "text/plain": [
       "{'mean_fit_time': array([0.20830464, 0.20314698, 0.11563711, 0.10626116, 0.1031348 ,\n",
       "        0.21095779, 0.1984555 , 0.09844625, 0.1015727 , 0.1078207 ,\n",
       "        0.21896589, 0.25103323, 0.10922921, 0.11635201, 0.13787088,\n",
       "        0.23181236, 0.2135752 , 0.12069716, 0.12507443, 0.11604738,\n",
       "        0.2109273 , 0.20914862, 0.11962235, 0.22949555, 0.12501106]),\n",
       " 'std_fit_time': array([9.84573367e-03, 1.72947332e-05, 7.65474322e-03, 6.25122841e-03,\n",
       "        7.65670467e-03, 7.81462799e-03, 7.16347553e-03, 7.16172633e-03,\n",
       "        7.81303784e-03, 4.68701091e-03, 9.25242322e-03, 5.18831685e-02,\n",
       "        6.52593006e-03, 2.22776967e-02, 2.69631598e-02, 2.29811953e-02,\n",
       "        1.48556684e-02, 9.85524804e-03, 1.22481404e-02, 1.44933759e-02,\n",
       "        8.48630493e-03, 7.24717574e-03, 1.68464397e-03, 7.85288915e-03,\n",
       "        6.23686442e-03]),\n",
       " 'mean_score_time': array([0.00882745, 0.        , 0.        , 0.00468826, 0.00468888,\n",
       "        0.0109405 , 0.00937915, 0.00937657, 0.00781391, 0.00468795,\n",
       "        0.00954015, 0.01004329, 0.00250826, 0.00381866, 0.00566826,\n",
       "        0.00688326, 0.00840507, 0.00196395, 0.00578916, 0.00541761,\n",
       "        0.00851443, 0.00759985, 0.00300357, 0.00315821, 0.00291107]),\n",
       " 'std_score_time': array([7.16253585e-03, 0.00000000e+00, 0.00000000e+00, 7.16144000e-03,\n",
       "        7.16238695e-03, 7.16224122e-03, 7.65804369e-03, 7.65594049e-03,\n",
       "        7.81390671e-03, 7.16096649e-03, 4.68019406e-03, 4.61032286e-03,\n",
       "        5.01643862e-03, 4.75724408e-03, 2.00345045e-03, 5.45454698e-03,\n",
       "        5.51602044e-03, 4.70911667e-03, 5.11569241e-03, 4.26766047e-03,\n",
       "        7.38484703e-03, 6.06552680e-03, 7.25313834e-06, 4.33295342e-03,\n",
       "        1.04727894e-03]),\n",
       " 'param_C': masked_array(data=[0.1, 0.1, 0.1, 0.1, 0.1, 1, 1, 1, 1, 1, 10, 10, 10, 10,\n",
       "                    10, 100, 100, 100, 100, 100, 1000, 1000, 1000, 1000,\n",
       "                    1000],\n",
       "              mask=[False, False, False, False, False, False, False, False,\n",
       "                    False, False, False, False, False, False, False, False,\n",
       "                    False, False, False, False, False, False, False, False,\n",
       "                    False],\n",
       "        fill_value='?',\n",
       "             dtype=object),\n",
       " 'param_gamma': masked_array(data=[1, 0.1, 0.01, 0.001, 0.0001, 1, 0.1, 0.01, 0.001,\n",
       "                    0.0001, 1, 0.1, 0.01, 0.001, 0.0001, 1, 0.1, 0.01,\n",
       "                    0.001, 0.0001, 1, 0.1, 0.01, 0.001, 0.0001],\n",
       "              mask=[False, False, False, False, False, False, False, False,\n",
       "                    False, False, False, False, False, False, False, False,\n",
       "                    False, False, False, False, False, False, False, False,\n",
       "                    False],\n",
       "        fill_value='?',\n",
       "             dtype=object),\n",
       " 'param_kernel': masked_array(data=['rbf', 'rbf', 'rbf', 'rbf', 'rbf', 'rbf', 'rbf', 'rbf',\n",
       "                    'rbf', 'rbf', 'rbf', 'rbf', 'rbf', 'rbf', 'rbf', 'rbf',\n",
       "                    'rbf', 'rbf', 'rbf', 'rbf', 'rbf', 'rbf', 'rbf', 'rbf',\n",
       "                    'rbf'],\n",
       "              mask=[False, False, False, False, False, False, False, False,\n",
       "                    False, False, False, False, False, False, False, False,\n",
       "                    False, False, False, False, False, False, False, False,\n",
       "                    False],\n",
       "        fill_value='?',\n",
       "             dtype=object),\n",
       " 'params': [{'C': 0.1, 'gamma': 1, 'kernel': 'rbf'},\n",
       "  {'C': 0.1, 'gamma': 0.1, 'kernel': 'rbf'},\n",
       "  {'C': 0.1, 'gamma': 0.01, 'kernel': 'rbf'},\n",
       "  {'C': 0.1, 'gamma': 0.001, 'kernel': 'rbf'},\n",
       "  {'C': 0.1, 'gamma': 0.0001, 'kernel': 'rbf'},\n",
       "  {'C': 1, 'gamma': 1, 'kernel': 'rbf'},\n",
       "  {'C': 1, 'gamma': 0.1, 'kernel': 'rbf'},\n",
       "  {'C': 1, 'gamma': 0.01, 'kernel': 'rbf'},\n",
       "  {'C': 1, 'gamma': 0.001, 'kernel': 'rbf'},\n",
       "  {'C': 1, 'gamma': 0.0001, 'kernel': 'rbf'},\n",
       "  {'C': 10, 'gamma': 1, 'kernel': 'rbf'},\n",
       "  {'C': 10, 'gamma': 0.1, 'kernel': 'rbf'},\n",
       "  {'C': 10, 'gamma': 0.01, 'kernel': 'rbf'},\n",
       "  {'C': 10, 'gamma': 0.001, 'kernel': 'rbf'},\n",
       "  {'C': 10, 'gamma': 0.0001, 'kernel': 'rbf'},\n",
       "  {'C': 100, 'gamma': 1, 'kernel': 'rbf'},\n",
       "  {'C': 100, 'gamma': 0.1, 'kernel': 'rbf'},\n",
       "  {'C': 100, 'gamma': 0.01, 'kernel': 'rbf'},\n",
       "  {'C': 100, 'gamma': 0.001, 'kernel': 'rbf'},\n",
       "  {'C': 100, 'gamma': 0.0001, 'kernel': 'rbf'},\n",
       "  {'C': 1000, 'gamma': 1, 'kernel': 'rbf'},\n",
       "  {'C': 1000, 'gamma': 0.1, 'kernel': 'rbf'},\n",
       "  {'C': 1000, 'gamma': 0.01, 'kernel': 'rbf'},\n",
       "  {'C': 1000, 'gamma': 0.001, 'kernel': 'rbf'},\n",
       "  {'C': 1000, 'gamma': 0.0001, 'kernel': 'rbf'}],\n",
       " 'split0_test_score': array([0.81578947, 0.81578947, 0.82894737, 0.81578947, 0.81578947,\n",
       "        0.81578947, 0.88157895, 0.86842105, 0.84210526, 0.81578947,\n",
       "        0.81578947, 0.89473684, 0.89473684, 0.84210526, 0.84210526,\n",
       "        0.81578947, 0.89473684, 0.92105263, 0.89473684, 0.84210526,\n",
       "        0.81578947, 0.89473684, 0.92105263, 0.92105263, 0.84210526]),\n",
       " 'split1_test_score': array([0.73684211, 0.73684211, 0.73684211, 0.73684211, 0.73684211,\n",
       "        0.73684211, 0.78947368, 0.78947368, 0.75      , 0.73684211,\n",
       "        0.73684211, 0.85526316, 0.86842105, 0.80263158, 0.75      ,\n",
       "        0.73684211, 0.85526316, 0.84210526, 0.88157895, 0.80263158,\n",
       "        0.73684211, 0.85526316, 0.86842105, 0.88157895, 0.82894737]),\n",
       " 'split2_test_score': array([0.76315789, 0.76315789, 0.77631579, 0.76315789, 0.76315789,\n",
       "        0.76315789, 0.90789474, 0.81578947, 0.82894737, 0.76315789,\n",
       "        0.76315789, 0.90789474, 0.88157895, 0.80263158, 0.80263158,\n",
       "        0.76315789, 0.90789474, 0.86842105, 0.85526316, 0.78947368,\n",
       "        0.76315789, 0.90789474, 0.86842105, 0.85526316, 0.82894737]),\n",
       " 'split3_test_score': array([0.76315789, 0.76315789, 0.76315789, 0.76315789, 0.76315789,\n",
       "        0.76315789, 0.89473684, 0.85526316, 0.78947368, 0.76315789,\n",
       "        0.76315789, 0.93421053, 0.92105263, 0.86842105, 0.77631579,\n",
       "        0.76315789, 0.93421053, 0.94736842, 0.88157895, 0.86842105,\n",
       "        0.76315789, 0.93421053, 0.94736842, 0.90789474, 0.85526316]),\n",
       " 'split4_test_score': array([0.80263158, 0.80263158, 0.81578947, 0.80263158, 0.80263158,\n",
       "        0.80263158, 0.89473684, 0.85526316, 0.86842105, 0.80263158,\n",
       "        0.80263158, 0.85526316, 0.88157895, 0.86842105, 0.86842105,\n",
       "        0.80263158, 0.85526316, 0.89473684, 0.88157895, 0.86842105,\n",
       "        0.80263158, 0.85526316, 0.89473684, 0.82894737, 0.88157895]),\n",
       " 'split5_test_score': array([0.72368421, 0.72368421, 0.76315789, 0.72368421, 0.72368421,\n",
       "        0.72368421, 0.86842105, 0.86842105, 0.77631579, 0.72368421,\n",
       "        0.72368421, 0.88157895, 0.92105263, 0.86842105, 0.77631579,\n",
       "        0.72368421, 0.88157895, 0.92105263, 0.88157895, 0.86842105,\n",
       "        0.72368421, 0.88157895, 0.92105263, 0.89473684, 0.86842105]),\n",
       " 'split6_test_score': array([0.65333333, 0.65333333, 0.65333333, 0.65333333, 0.65333333,\n",
       "        0.65333333, 0.85333333, 0.86666667, 0.70666667, 0.65333333,\n",
       "        0.65333333, 0.92      , 0.96      , 0.85333333, 0.68      ,\n",
       "        0.65333333, 0.92      , 0.96      , 0.84      , 0.84      ,\n",
       "        0.65333333, 0.92      , 0.96      , 0.94666667, 0.82666667]),\n",
       " 'split7_test_score': array([0.81333333, 0.81333333, 0.8       , 0.81333333, 0.81333333,\n",
       "        0.81333333, 0.89333333, 0.88      , 0.81333333, 0.81333333,\n",
       "        0.81333333, 0.93333333, 0.96      , 0.86666667, 0.8       ,\n",
       "        0.81333333, 0.93333333, 0.97333333, 0.89333333, 0.86666667,\n",
       "        0.81333333, 0.93333333, 0.97333333, 0.97333333, 0.88      ]),\n",
       " 'split8_test_score': array([0.74666667, 0.74666667, 0.76      , 0.74666667, 0.74666667,\n",
       "        0.74666667, 0.82666667, 0.86666667, 0.85333333, 0.74666667,\n",
       "        0.74666667, 0.85333333, 0.84      , 0.84      , 0.82666667,\n",
       "        0.74666667, 0.85333333, 0.85333333, 0.84      , 0.84      ,\n",
       "        0.74666667, 0.85333333, 0.85333333, 0.86666667, 0.84      ]),\n",
       " 'split9_test_score': array([0.64      , 0.64      , 0.64      , 0.64      , 0.64      ,\n",
       "        0.64      , 0.86666667, 0.85333333, 0.72      , 0.64      ,\n",
       "        0.64      , 0.90666667, 0.96      , 0.82666667, 0.72      ,\n",
       "        0.64      , 0.90666667, 0.93333333, 0.84      , 0.8       ,\n",
       "        0.64      , 0.90666667, 0.93333333, 0.93333333, 0.85333333]),\n",
       " 'mean_test_score': array([0.74585965, 0.74585965, 0.75375439, 0.74585965, 0.74585965,\n",
       "        0.74585965, 0.86768421, 0.85192982, 0.79485965, 0.74585965,\n",
       "        0.74585965, 0.89422807, 0.90884211, 0.84392982, 0.78424561,\n",
       "        0.74585965, 0.89422807, 0.91147368, 0.86896491, 0.83861404,\n",
       "        0.74585965, 0.89422807, 0.91410526, 0.90094737, 0.85052632]),\n",
       " 'std_test_score': array([0.05797024, 0.05797024, 0.05972968, 0.05797024, 0.05797024,\n",
       "        0.05797024, 0.03455194, 0.02645239, 0.05322884, 0.05797024,\n",
       "        0.05797024, 0.03000446, 0.04025941, 0.02476435, 0.05395573,\n",
       "        0.05797024, 0.03000446, 0.04296177, 0.02144552, 0.02944301,\n",
       "        0.05797024, 0.03000446, 0.03928032, 0.04206096, 0.01966165]),\n",
       " 'rank_test_score': array([17, 17, 16, 17, 17, 17,  9, 10, 14, 17, 17,  5,  3, 12, 15, 17,  5,\n",
       "         2,  8, 13, 17,  5,  1,  4, 11])}"
      ]
     },
     "execution_count": 67,
     "metadata": {},
     "output_type": "execute_result"
    }
   ],
   "source": [
    "grid.cv_results_"
   ]
  },
  {
   "cell_type": "code",
   "execution_count": 68,
   "metadata": {},
   "outputs": [
    {
     "name": "stdout",
     "output_type": "stream",
     "text": [
      "              precision    recall  f1-score   support\n",
      "\n",
      "         0.0       0.83      0.71      0.77        14\n",
      "         1.0       0.94      0.97      0.95        62\n",
      "\n",
      "    accuracy                           0.92        76\n",
      "   macro avg       0.89      0.84      0.86        76\n",
      "weighted avg       0.92      0.92      0.92        76\n",
      "\n",
      "              precision    recall  f1-score   support\n",
      "\n",
      "         0.0       0.81      0.65      0.72        20\n",
      "         1.0       0.88      0.95      0.91        56\n",
      "\n",
      "    accuracy                           0.87        76\n",
      "   macro avg       0.85      0.80      0.82        76\n",
      "weighted avg       0.86      0.87      0.86        76\n",
      "\n",
      "              precision    recall  f1-score   support\n",
      "\n",
      "         0.0       0.79      0.61      0.69        18\n",
      "         1.0       0.89      0.95      0.92        58\n",
      "\n",
      "    accuracy                           0.87        76\n",
      "   macro avg       0.84      0.78      0.80        76\n",
      "weighted avg       0.86      0.87      0.86        76\n",
      "\n",
      "              precision    recall  f1-score   support\n",
      "\n",
      "         0.0       0.85      0.94      0.89        18\n",
      "         1.0       0.98      0.95      0.96        58\n",
      "\n",
      "    accuracy                           0.95        76\n",
      "   macro avg       0.92      0.95      0.93        76\n",
      "weighted avg       0.95      0.95      0.95        76\n",
      "\n",
      "              precision    recall  f1-score   support\n",
      "\n",
      "         0.0       0.68      0.87      0.76        15\n",
      "         1.0       0.96      0.90      0.93        61\n",
      "\n",
      "    accuracy                           0.89        76\n",
      "   macro avg       0.82      0.88      0.85        76\n",
      "weighted avg       0.91      0.89      0.90        76\n",
      "\n",
      "              precision    recall  f1-score   support\n",
      "\n",
      "         0.0       0.89      0.81      0.85        21\n",
      "         1.0       0.93      0.96      0.95        55\n",
      "\n",
      "    accuracy                           0.92        76\n",
      "   macro avg       0.91      0.89      0.90        76\n",
      "weighted avg       0.92      0.92      0.92        76\n",
      "\n",
      "              precision    recall  f1-score   support\n",
      "\n",
      "         0.0       0.96      0.92      0.94        26\n",
      "         1.0       0.96      0.98      0.97        49\n",
      "\n",
      "    accuracy                           0.96        75\n",
      "   macro avg       0.96      0.95      0.96        75\n",
      "weighted avg       0.96      0.96      0.96        75\n",
      "\n",
      "              precision    recall  f1-score   support\n",
      "\n",
      "         0.0       0.88      1.00      0.93        14\n",
      "         1.0       1.00      0.97      0.98        61\n",
      "\n",
      "    accuracy                           0.97        75\n",
      "   macro avg       0.94      0.98      0.96        75\n",
      "weighted avg       0.98      0.97      0.97        75\n",
      "\n",
      "              precision    recall  f1-score   support\n",
      "\n",
      "         0.0       0.79      0.58      0.67        19\n",
      "         1.0       0.87      0.95      0.91        56\n",
      "\n",
      "    accuracy                           0.85        75\n",
      "   macro avg       0.83      0.76      0.79        75\n",
      "weighted avg       0.85      0.85      0.85        75\n",
      "\n",
      "              precision    recall  f1-score   support\n",
      "\n",
      "         0.0       0.89      0.93      0.91        27\n",
      "         1.0       0.96      0.94      0.95        48\n",
      "\n",
      "    accuracy                           0.93        75\n",
      "   macro avg       0.93      0.93      0.93        75\n",
      "weighted avg       0.93      0.93      0.93        75\n",
      "\n"
     ]
    }
   ],
   "source": [
    "wrong_pred_indices=[]\n",
    "\n",
    "svm_estimator=svm.SVC(C= 1000, gamma= 0.01, kernel= 'rbf',probability=True, random_state=10)\n",
    "i=0\n",
    "\n",
    "for trids, tstids in kfold.split(x_train):\n",
    "    \n",
    "    trainx, testx= x_train[trids,:], x_train[tstids,:]\n",
    "    trainy, testy= y_train[trids], y_train[tstids]\n",
    "    \n",
    "    svm_estimator.fit(trainx, trainy)\n",
    "    \n",
    "    preds=svm_estimator.predict(x_train[tstids,:])\n",
    "    \n",
    "    print(classification_report(testy, svm_estimator.predict(testx)))\n",
    "    \n",
    "    if (i==9):#checking if it is last split\n",
    "        for i in range(len(tstids)):\n",
    "            if (y_train[tstids[i]]!=preds[i]):\n",
    "                wrong_pred_indices.append(tstids[i])\n",
    "    i=i+1"
   ]
  },
  {
   "cell_type": "code",
   "execution_count": 72,
   "metadata": {},
   "outputs": [
    {
     "data": {
      "text/plain": [
       "[8, 44, 73, 420, 545]"
      ]
     },
     "execution_count": 72,
     "metadata": {},
     "output_type": "execute_result"
    }
   ],
   "source": [
    "wrong_pred_indices"
   ]
  },
  {
   "cell_type": "markdown",
   "metadata": {},
   "source": [
    "f1 score average over 10 fold=0.88 "
   ]
  },
  {
   "cell_type": "code",
   "execution_count": 71,
   "metadata": {},
   "outputs": [],
   "source": [
    "import lime\n",
    "import lime.lime_tabular\n",
    "import eli5\n",
    "import shape"
   ]
  },
  {
   "cell_type": "code",
   "execution_count": null,
   "metadata": {},
   "outputs": [],
   "source": [
    "lime_explainer = lime.lime_tabular.LimeTabularExplainer(x_train, feature_names=features,\n",
    "                                                  class_names=[0,1], verbose=True, mode='classification')"
   ]
  }
 ],
 "metadata": {
  "accelerator": "GPU",
  "colab": {
   "name": "pd_speech_features_letm.ipynb",
   "provenance": []
  },
  "kernelspec": {
   "display_name": "Python 3",
   "language": "python",
   "name": "python3"
  },
  "language_info": {
   "codemirror_mode": {
    "name": "ipython",
    "version": 3
   },
   "file_extension": ".py",
   "mimetype": "text/x-python",
   "name": "python",
   "nbconvert_exporter": "python",
   "pygments_lexer": "ipython3",
   "version": "3.7.4"
  },
  "widgets": {
   "application/vnd.jupyter.widget-state+json": {
    "041ea88ce4e34a7b90d4cb82fcfbccfc": {
     "model_module": "@jupyter-widgets/base",
     "model_name": "LayoutModel",
     "state": {
      "_model_module": "@jupyter-widgets/base",
      "_model_module_version": "1.2.0",
      "_model_name": "LayoutModel",
      "_view_count": null,
      "_view_module": "@jupyter-widgets/base",
      "_view_module_version": "1.2.0",
      "_view_name": "LayoutView",
      "align_content": null,
      "align_items": null,
      "align_self": null,
      "border": null,
      "bottom": null,
      "display": null,
      "flex": null,
      "flex_flow": null,
      "grid_area": null,
      "grid_auto_columns": null,
      "grid_auto_flow": null,
      "grid_auto_rows": null,
      "grid_column": null,
      "grid_gap": null,
      "grid_row": null,
      "grid_template_areas": null,
      "grid_template_columns": null,
      "grid_template_rows": null,
      "height": null,
      "justify_content": null,
      "justify_items": null,
      "left": null,
      "margin": null,
      "max_height": null,
      "max_width": null,
      "min_height": null,
      "min_width": null,
      "object_fit": null,
      "object_position": null,
      "order": null,
      "overflow": null,
      "overflow_x": null,
      "overflow_y": null,
      "padding": null,
      "right": null,
      "top": null,
      "visibility": null,
      "width": null
     }
    },
    "3601bef0653943c2b449cb513438121d": {
     "model_module": "@jupyter-widgets/base",
     "model_name": "LayoutModel",
     "state": {
      "_model_module": "@jupyter-widgets/base",
      "_model_module_version": "1.2.0",
      "_model_name": "LayoutModel",
      "_view_count": null,
      "_view_module": "@jupyter-widgets/base",
      "_view_module_version": "1.2.0",
      "_view_name": "LayoutView",
      "align_content": null,
      "align_items": null,
      "align_self": null,
      "border": null,
      "bottom": null,
      "display": null,
      "flex": null,
      "flex_flow": null,
      "grid_area": null,
      "grid_auto_columns": null,
      "grid_auto_flow": null,
      "grid_auto_rows": null,
      "grid_column": null,
      "grid_gap": null,
      "grid_row": null,
      "grid_template_areas": null,
      "grid_template_columns": null,
      "grid_template_rows": null,
      "height": null,
      "justify_content": null,
      "justify_items": null,
      "left": null,
      "margin": null,
      "max_height": null,
      "max_width": null,
      "min_height": null,
      "min_width": null,
      "object_fit": null,
      "object_position": null,
      "order": null,
      "overflow": null,
      "overflow_x": null,
      "overflow_y": null,
      "padding": null,
      "right": null,
      "top": null,
      "visibility": null,
      "width": null
     }
    },
    "61715d8189544ef7ac54b3e544b7f976": {
     "model_module": "@jupyter-widgets/controls",
     "model_name": "HTMLModel",
     "state": {
      "_dom_classes": [],
      "_model_module": "@jupyter-widgets/controls",
      "_model_module_version": "1.5.0",
      "_model_name": "HTMLModel",
      "_view_count": null,
      "_view_module": "@jupyter-widgets/controls",
      "_view_module_version": "1.5.0",
      "_view_name": "HTMLView",
      "description": "",
      "description_tooltip": null,
      "layout": "IPY_MODEL_3601bef0653943c2b449cb513438121d",
      "placeholder": "​",
      "style": "IPY_MODEL_87329ca36e714fa2a3ff19d197050619",
      "value": " 0/50 [00:00&lt;?, ?it/s]"
     }
    },
    "71846090601b4b51b2b53a3b71fbe019": {
     "model_module": "@jupyter-widgets/controls",
     "model_name": "ProgressStyleModel",
     "state": {
      "_model_module": "@jupyter-widgets/controls",
      "_model_module_version": "1.5.0",
      "_model_name": "ProgressStyleModel",
      "_view_count": null,
      "_view_module": "@jupyter-widgets/base",
      "_view_module_version": "1.2.0",
      "_view_name": "StyleView",
      "bar_color": null,
      "description_width": "initial"
     }
    },
    "87329ca36e714fa2a3ff19d197050619": {
     "model_module": "@jupyter-widgets/controls",
     "model_name": "DescriptionStyleModel",
     "state": {
      "_model_module": "@jupyter-widgets/controls",
      "_model_module_version": "1.5.0",
      "_model_name": "DescriptionStyleModel",
      "_view_count": null,
      "_view_module": "@jupyter-widgets/base",
      "_view_module_version": "1.2.0",
      "_view_name": "StyleView",
      "description_width": ""
     }
    },
    "d5c7c547ac084f1b87778d1a62851373": {
     "model_module": "@jupyter-widgets/base",
     "model_name": "LayoutModel",
     "state": {
      "_model_module": "@jupyter-widgets/base",
      "_model_module_version": "1.2.0",
      "_model_name": "LayoutModel",
      "_view_count": null,
      "_view_module": "@jupyter-widgets/base",
      "_view_module_version": "1.2.0",
      "_view_name": "LayoutView",
      "align_content": null,
      "align_items": null,
      "align_self": null,
      "border": null,
      "bottom": null,
      "display": null,
      "flex": null,
      "flex_flow": null,
      "grid_area": null,
      "grid_auto_columns": null,
      "grid_auto_flow": null,
      "grid_auto_rows": null,
      "grid_column": null,
      "grid_gap": null,
      "grid_row": null,
      "grid_template_areas": null,
      "grid_template_columns": null,
      "grid_template_rows": null,
      "height": null,
      "justify_content": null,
      "justify_items": null,
      "left": null,
      "margin": null,
      "max_height": null,
      "max_width": null,
      "min_height": null,
      "min_width": null,
      "object_fit": null,
      "object_position": null,
      "order": null,
      "overflow": null,
      "overflow_x": null,
      "overflow_y": null,
      "padding": null,
      "right": null,
      "top": null,
      "visibility": null,
      "width": null
     }
    },
    "ebaa07e4bff0492c83df77ba9d233b5c": {
     "model_module": "@jupyter-widgets/controls",
     "model_name": "FloatProgressModel",
     "state": {
      "_dom_classes": [],
      "_model_module": "@jupyter-widgets/controls",
      "_model_module_version": "1.5.0",
      "_model_name": "FloatProgressModel",
      "_view_count": null,
      "_view_module": "@jupyter-widgets/controls",
      "_view_module_version": "1.5.0",
      "_view_name": "ProgressView",
      "bar_style": "danger",
      "description": "  0%",
      "description_tooltip": null,
      "layout": "IPY_MODEL_041ea88ce4e34a7b90d4cb82fcfbccfc",
      "max": 50,
      "min": 0,
      "orientation": "horizontal",
      "style": "IPY_MODEL_71846090601b4b51b2b53a3b71fbe019",
      "value": 0
     }
    },
    "fbe8f22ab8d3478fa8865e31a9f8beb9": {
     "model_module": "@jupyter-widgets/controls",
     "model_name": "HBoxModel",
     "state": {
      "_dom_classes": [],
      "_model_module": "@jupyter-widgets/controls",
      "_model_module_version": "1.5.0",
      "_model_name": "HBoxModel",
      "_view_count": null,
      "_view_module": "@jupyter-widgets/controls",
      "_view_module_version": "1.5.0",
      "_view_name": "HBoxView",
      "box_style": "",
      "children": [
       "IPY_MODEL_ebaa07e4bff0492c83df77ba9d233b5c",
       "IPY_MODEL_61715d8189544ef7ac54b3e544b7f976"
      ],
      "layout": "IPY_MODEL_d5c7c547ac084f1b87778d1a62851373"
     }
    }
   }
  }
 },
 "nbformat": 4,
 "nbformat_minor": 1
}
