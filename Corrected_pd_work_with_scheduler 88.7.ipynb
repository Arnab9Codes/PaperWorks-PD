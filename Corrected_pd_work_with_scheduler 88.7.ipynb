{
  "nbformat": 4,
  "nbformat_minor": 0,
  "metadata": {
    "kernelspec": {
      "name": "python3",
      "display_name": "Python 3",
      "language": "python"
    },
    "language_info": {
      "name": "python",
      "version": "3.7.9",
      "mimetype": "text/x-python",
      "codemirror_mode": {
        "name": "ipython",
        "version": 3
      },
      "pygments_lexer": "ipython3",
      "nbconvert_exporter": "python",
      "file_extension": ".py"
    },
    "colab": {
      "name": "Corrected pd-work with scheduler.ipynb",
      "provenance": [],
      "include_colab_link": true
    }
  },
  "cells": [
    {
      "cell_type": "markdown",
      "metadata": {
        "id": "view-in-github",
        "colab_type": "text"
      },
      "source": [
        "<a href=\"https://colab.research.google.com/github/Arnab9Codes/PaperWorks-PD/blob/main/Corrected_pd_work_with_scheduler%2088.7.ipynb\" target=\"_parent\"><img src=\"https://colab.research.google.com/assets/colab-badge.svg\" alt=\"Open In Colab\"/></a>"
      ]
    },
    {
      "cell_type": "markdown",
      "metadata": {
        "id": "RYzJH9OnrurL"
      },
      "source": [
        "\n",
        "pip install -r requirements.txt\n",
        "pip install pipwin\n",
        "pipwin install -r requirements.txt"
      ]
    },
    {
      "cell_type": "code",
      "metadata": {
        "colab": {
          "base_uri": "https://localhost:8080/"
        },
        "id": "vg72QPAqH-xY",
        "outputId": "6460038c-d17a-409c-caa8-acdc2abf8df1"
      },
      "source": [
        "from google.colab import drive\n",
        "drive.mount('/content/drive')"
      ],
      "execution_count": 15,
      "outputs": [
        {
          "output_type": "stream",
          "text": [
            "Drive already mounted at /content/drive; to attempt to forcibly remount, call drive.mount(\"/content/drive\", force_remount=True).\n"
          ],
          "name": "stdout"
        }
      ]
    },
    {
      "cell_type": "code",
      "metadata": {
        "id": "eu8DgIgururO",
        "trusted": true
      },
      "source": [
        "## Initial Imports\n",
        "\n",
        "%matplotlib inline\n",
        "\n",
        "import pandas as pd \n",
        "import numpy as np \n",
        "import matplotlib.pyplot as plt\n",
        "import seaborn as sns\n",
        "import random\n",
        "from tqdm import tqdm_notebook as tqdm\n",
        "\n",
        "#import lime\n",
        "#import eli5\n",
        "#import mlxtend\n",
        "import warnings\n",
        "warnings.filterwarnings('ignore')"
      ],
      "execution_count": 16,
      "outputs": []
    },
    {
      "cell_type": "markdown",
      "metadata": {
        "id": "_MthW3IaSOkF"
      },
      "source": [
        "**`Read data and Display data dimension`**"
      ]
    },
    {
      "cell_type": "code",
      "metadata": {
        "id": "qgYY-dHmD5_U"
      },
      "source": [
        "np.random.seed(10)"
      ],
      "execution_count": 189,
      "outputs": []
    },
    {
      "cell_type": "code",
      "metadata": {
        "id": "o4fLLdJVrurY",
        "trusted": true,
        "colab": {
          "base_uri": "https://localhost:8080/"
        },
        "outputId": "3f643853-0b86-41f5-f8f0-58c59f700c79"
      },
      "source": [
        "#pd_speech_features = pd.read_csv('pd_speech_features.csv')\n",
        "pd_speech_features = pd.read_csv('/content/drive/My Drive/Paper work/Speech detection/pd_speech_features.csv')\n",
        "#pd_speech_features = pd.read_csv(os.path.join(dirname,filename))\n",
        "new_header = pd_speech_features.iloc[0] #grab the first row for the header\n",
        "pd_speech_features = pd_speech_features[1:] #take the data less the header row\n",
        "pd_speech_features.columns = new_header #set the header row as the df header\n",
        "pd_speech_features.head()\n",
        "print('The shape of the matrix is :', pd_speech_features.shape)"
      ],
      "execution_count": 190,
      "outputs": [
        {
          "output_type": "stream",
          "text": [
            "The shape of the matrix is : (756, 755)\n"
          ],
          "name": "stdout"
        }
      ]
    },
    {
      "cell_type": "markdown",
      "metadata": {
        "id": "t_36-f_6rurg"
      },
      "source": [
        "#### Gather most general metadata about the data"
      ]
    },
    {
      "cell_type": "code",
      "metadata": {
        "id": "7NIsR5gTrurh",
        "trusted": true,
        "colab": {
          "base_uri": "https://localhost:8080/",
          "height": 307
        },
        "outputId": "aa621aa7-dbcd-4d1b-c777-5800b786429b"
      },
      "source": [
        "pd_speech_features.info() # Gives type of columns\n",
        "pd_speech_features.describe()"
      ],
      "execution_count": 191,
      "outputs": [
        {
          "output_type": "stream",
          "text": [
            "<class 'pandas.core.frame.DataFrame'>\n",
            "RangeIndex: 756 entries, 1 to 756\n",
            "Columns: 755 entries, id to class\n",
            "dtypes: object(755)\n",
            "memory usage: 4.4+ MB\n"
          ],
          "name": "stdout"
        },
        {
          "output_type": "execute_result",
          "data": {
            "text/html": [
              "<div>\n",
              "<style scoped>\n",
              "    .dataframe tbody tr th:only-of-type {\n",
              "        vertical-align: middle;\n",
              "    }\n",
              "\n",
              "    .dataframe tbody tr th {\n",
              "        vertical-align: top;\n",
              "    }\n",
              "\n",
              "    .dataframe thead th {\n",
              "        text-align: right;\n",
              "    }\n",
              "</style>\n",
              "<table border=\"1\" class=\"dataframe\">\n",
              "  <thead>\n",
              "    <tr style=\"text-align: right;\">\n",
              "      <th></th>\n",
              "      <th>id</th>\n",
              "      <th>gender</th>\n",
              "      <th>PPE</th>\n",
              "      <th>DFA</th>\n",
              "      <th>RPDE</th>\n",
              "      <th>numPulses</th>\n",
              "      <th>numPeriodsPulses</th>\n",
              "      <th>meanPeriodPulses</th>\n",
              "      <th>stdDevPeriodPulses</th>\n",
              "      <th>locPctJitter</th>\n",
              "      <th>locAbsJitter</th>\n",
              "      <th>rapJitter</th>\n",
              "      <th>ppq5Jitter</th>\n",
              "      <th>ddpJitter</th>\n",
              "      <th>locShimmer</th>\n",
              "      <th>locDbShimmer</th>\n",
              "      <th>apq3Shimmer</th>\n",
              "      <th>apq5Shimmer</th>\n",
              "      <th>apq11Shimmer</th>\n",
              "      <th>ddaShimmer</th>\n",
              "      <th>meanAutoCorrHarmonicity</th>\n",
              "      <th>meanNoiseToHarmHarmonicity</th>\n",
              "      <th>meanHarmToNoiseHarmonicity</th>\n",
              "      <th>minIntensity</th>\n",
              "      <th>maxIntensity</th>\n",
              "      <th>meanIntensity</th>\n",
              "      <th>f1</th>\n",
              "      <th>f2</th>\n",
              "      <th>f3</th>\n",
              "      <th>f4</th>\n",
              "      <th>b1</th>\n",
              "      <th>b2</th>\n",
              "      <th>b3</th>\n",
              "      <th>b4</th>\n",
              "      <th>GQ_prc5_95</th>\n",
              "      <th>GQ_std_cycle_open</th>\n",
              "      <th>GQ_std_cycle_closed</th>\n",
              "      <th>GNE_mean</th>\n",
              "      <th>GNE_std</th>\n",
              "      <th>GNE_SNR_TKEO</th>\n",
              "      <th>...</th>\n",
              "      <th>tqwt_skewnessValue_dec_34</th>\n",
              "      <th>tqwt_skewnessValue_dec_35</th>\n",
              "      <th>tqwt_skewnessValue_dec_36</th>\n",
              "      <th>tqwt_kurtosisValue_dec_1</th>\n",
              "      <th>tqwt_kurtosisValue_dec_2</th>\n",
              "      <th>tqwt_kurtosisValue_dec_3</th>\n",
              "      <th>tqwt_kurtosisValue_dec_4</th>\n",
              "      <th>tqwt_kurtosisValue_dec_5</th>\n",
              "      <th>tqwt_kurtosisValue_dec_6</th>\n",
              "      <th>tqwt_kurtosisValue_dec_7</th>\n",
              "      <th>tqwt_kurtosisValue_dec_8</th>\n",
              "      <th>tqwt_kurtosisValue_dec_9</th>\n",
              "      <th>tqwt_kurtosisValue_dec_10</th>\n",
              "      <th>tqwt_kurtosisValue_dec_11</th>\n",
              "      <th>tqwt_kurtosisValue_dec_12</th>\n",
              "      <th>tqwt_kurtosisValue_dec_13</th>\n",
              "      <th>tqwt_kurtosisValue_dec_14</th>\n",
              "      <th>tqwt_kurtosisValue_dec_15</th>\n",
              "      <th>tqwt_kurtosisValue_dec_16</th>\n",
              "      <th>tqwt_kurtosisValue_dec_17</th>\n",
              "      <th>tqwt_kurtosisValue_dec_18</th>\n",
              "      <th>tqwt_kurtosisValue_dec_19</th>\n",
              "      <th>tqwt_kurtosisValue_dec_20</th>\n",
              "      <th>tqwt_kurtosisValue_dec_21</th>\n",
              "      <th>tqwt_kurtosisValue_dec_22</th>\n",
              "      <th>tqwt_kurtosisValue_dec_23</th>\n",
              "      <th>tqwt_kurtosisValue_dec_24</th>\n",
              "      <th>tqwt_kurtosisValue_dec_25</th>\n",
              "      <th>tqwt_kurtosisValue_dec_26</th>\n",
              "      <th>tqwt_kurtosisValue_dec_27</th>\n",
              "      <th>tqwt_kurtosisValue_dec_28</th>\n",
              "      <th>tqwt_kurtosisValue_dec_29</th>\n",
              "      <th>tqwt_kurtosisValue_dec_30</th>\n",
              "      <th>tqwt_kurtosisValue_dec_31</th>\n",
              "      <th>tqwt_kurtosisValue_dec_32</th>\n",
              "      <th>tqwt_kurtosisValue_dec_33</th>\n",
              "      <th>tqwt_kurtosisValue_dec_34</th>\n",
              "      <th>tqwt_kurtosisValue_dec_35</th>\n",
              "      <th>tqwt_kurtosisValue_dec_36</th>\n",
              "      <th>class</th>\n",
              "    </tr>\n",
              "  </thead>\n",
              "  <tbody>\n",
              "    <tr>\n",
              "      <th>count</th>\n",
              "      <td>756</td>\n",
              "      <td>756</td>\n",
              "      <td>756</td>\n",
              "      <td>756</td>\n",
              "      <td>756</td>\n",
              "      <td>756</td>\n",
              "      <td>756</td>\n",
              "      <td>756</td>\n",
              "      <td>756</td>\n",
              "      <td>756</td>\n",
              "      <td>756</td>\n",
              "      <td>756</td>\n",
              "      <td>756</td>\n",
              "      <td>756</td>\n",
              "      <td>756</td>\n",
              "      <td>756</td>\n",
              "      <td>756</td>\n",
              "      <td>756</td>\n",
              "      <td>756</td>\n",
              "      <td>756</td>\n",
              "      <td>756</td>\n",
              "      <td>756</td>\n",
              "      <td>756</td>\n",
              "      <td>756</td>\n",
              "      <td>756</td>\n",
              "      <td>756</td>\n",
              "      <td>756</td>\n",
              "      <td>756</td>\n",
              "      <td>756</td>\n",
              "      <td>756</td>\n",
              "      <td>756</td>\n",
              "      <td>756</td>\n",
              "      <td>756</td>\n",
              "      <td>756</td>\n",
              "      <td>756</td>\n",
              "      <td>756</td>\n",
              "      <td>756</td>\n",
              "      <td>756</td>\n",
              "      <td>756</td>\n",
              "      <td>756</td>\n",
              "      <td>...</td>\n",
              "      <td>756</td>\n",
              "      <td>756</td>\n",
              "      <td>756</td>\n",
              "      <td>756</td>\n",
              "      <td>756</td>\n",
              "      <td>756</td>\n",
              "      <td>756</td>\n",
              "      <td>756</td>\n",
              "      <td>756</td>\n",
              "      <td>756</td>\n",
              "      <td>756</td>\n",
              "      <td>756</td>\n",
              "      <td>756</td>\n",
              "      <td>756</td>\n",
              "      <td>756</td>\n",
              "      <td>756</td>\n",
              "      <td>756</td>\n",
              "      <td>756</td>\n",
              "      <td>756</td>\n",
              "      <td>756</td>\n",
              "      <td>756</td>\n",
              "      <td>756</td>\n",
              "      <td>756</td>\n",
              "      <td>756</td>\n",
              "      <td>756</td>\n",
              "      <td>756</td>\n",
              "      <td>756</td>\n",
              "      <td>756</td>\n",
              "      <td>756</td>\n",
              "      <td>756</td>\n",
              "      <td>756</td>\n",
              "      <td>756</td>\n",
              "      <td>756</td>\n",
              "      <td>756</td>\n",
              "      <td>756</td>\n",
              "      <td>756</td>\n",
              "      <td>756</td>\n",
              "      <td>756</td>\n",
              "      <td>756</td>\n",
              "      <td>756</td>\n",
              "    </tr>\n",
              "    <tr>\n",
              "      <th>unique</th>\n",
              "      <td>252</td>\n",
              "      <td>2</td>\n",
              "      <td>740</td>\n",
              "      <td>745</td>\n",
              "      <td>748</td>\n",
              "      <td>315</td>\n",
              "      <td>319</td>\n",
              "      <td>755</td>\n",
              "      <td>646</td>\n",
              "      <td>358</td>\n",
              "      <td>543</td>\n",
              "      <td>183</td>\n",
              "      <td>244</td>\n",
              "      <td>327</td>\n",
              "      <td>734</td>\n",
              "      <td>547</td>\n",
              "      <td>710</td>\n",
              "      <td>709</td>\n",
              "      <td>722</td>\n",
              "      <td>741</td>\n",
              "      <td>747</td>\n",
              "      <td>748</td>\n",
              "      <td>745</td>\n",
              "      <td>755</td>\n",
              "      <td>755</td>\n",
              "      <td>755</td>\n",
              "      <td>755</td>\n",
              "      <td>755</td>\n",
              "      <td>755</td>\n",
              "      <td>755</td>\n",
              "      <td>755</td>\n",
              "      <td>755</td>\n",
              "      <td>755</td>\n",
              "      <td>754</td>\n",
              "      <td>356</td>\n",
              "      <td>753</td>\n",
              "      <td>380</td>\n",
              "      <td>743</td>\n",
              "      <td>750</td>\n",
              "      <td>735</td>\n",
              "      <td>...</td>\n",
              "      <td>753</td>\n",
              "      <td>754</td>\n",
              "      <td>754</td>\n",
              "      <td>755</td>\n",
              "      <td>754</td>\n",
              "      <td>754</td>\n",
              "      <td>752</td>\n",
              "      <td>754</td>\n",
              "      <td>754</td>\n",
              "      <td>751</td>\n",
              "      <td>752</td>\n",
              "      <td>753</td>\n",
              "      <td>752</td>\n",
              "      <td>754</td>\n",
              "      <td>751</td>\n",
              "      <td>749</td>\n",
              "      <td>741</td>\n",
              "      <td>744</td>\n",
              "      <td>742</td>\n",
              "      <td>742</td>\n",
              "      <td>740</td>\n",
              "      <td>738</td>\n",
              "      <td>746</td>\n",
              "      <td>735</td>\n",
              "      <td>739</td>\n",
              "      <td>732</td>\n",
              "      <td>728</td>\n",
              "      <td>723</td>\n",
              "      <td>735</td>\n",
              "      <td>750</td>\n",
              "      <td>749</td>\n",
              "      <td>755</td>\n",
              "      <td>752</td>\n",
              "      <td>753</td>\n",
              "      <td>749</td>\n",
              "      <td>752</td>\n",
              "      <td>753</td>\n",
              "      <td>753</td>\n",
              "      <td>754</td>\n",
              "      <td>2</td>\n",
              "    </tr>\n",
              "    <tr>\n",
              "      <th>top</th>\n",
              "      <td>239</td>\n",
              "      <td>1</td>\n",
              "      <td>0.82273</td>\n",
              "      <td>0.75192</td>\n",
              "      <td>0.70689</td>\n",
              "      <td>237</td>\n",
              "      <td>236</td>\n",
              "      <td>0.006004477</td>\n",
              "      <td>6.29E-05</td>\n",
              "      <td>0.00076</td>\n",
              "      <td>1.39E-05</td>\n",
              "      <td>0.00012</td>\n",
              "      <td>0.00032</td>\n",
              "      <td>0.00036</td>\n",
              "      <td>0.03345</td>\n",
              "      <td>0.376</td>\n",
              "      <td>0.03125</td>\n",
              "      <td>0.05772</td>\n",
              "      <td>0.02824</td>\n",
              "      <td>0.03854</td>\n",
              "      <td>0.972537</td>\n",
              "      <td>0.005904</td>\n",
              "      <td>23.914</td>\n",
              "      <td>80.44328048</td>\n",
              "      <td>85.61022901</td>\n",
              "      <td>82.73382546</td>\n",
              "      <td>769.6772481</td>\n",
              "      <td>1279.806544</td>\n",
              "      <td>3107.527459</td>\n",
              "      <td>3738.070756</td>\n",
              "      <td>76.4915472</td>\n",
              "      <td>117.5349021</td>\n",
              "      <td>192.2014234</td>\n",
              "      <td>503.6803762</td>\n",
              "      <td>1</td>\n",
              "      <td>27.5848</td>\n",
              "      <td>0</td>\n",
              "      <td>0.93829</td>\n",
              "      <td>0.19121</td>\n",
              "      <td>0.13883</td>\n",
              "      <td>...</td>\n",
              "      <td>-3.3736</td>\n",
              "      <td>-0.09052</td>\n",
              "      <td>-8.9141</td>\n",
              "      <td>44.7366</td>\n",
              "      <td>15.7456</td>\n",
              "      <td>13.3637</td>\n",
              "      <td>11.8305</td>\n",
              "      <td>11.6205</td>\n",
              "      <td>11.573</td>\n",
              "      <td>3.5221</td>\n",
              "      <td>3.7508</td>\n",
              "      <td>5.6728</td>\n",
              "      <td>4.6953</td>\n",
              "      <td>11.6165</td>\n",
              "      <td>2.8016</td>\n",
              "      <td>3.2569</td>\n",
              "      <td>2.8667</td>\n",
              "      <td>3.7997</td>\n",
              "      <td>2.4181</td>\n",
              "      <td>2.5715</td>\n",
              "      <td>2.269</td>\n",
              "      <td>2.1762</td>\n",
              "      <td>2.2146</td>\n",
              "      <td>1.5932</td>\n",
              "      <td>1.8336</td>\n",
              "      <td>1.7484</td>\n",
              "      <td>2.3105</td>\n",
              "      <td>1.5899</td>\n",
              "      <td>1.6337</td>\n",
              "      <td>2.3955</td>\n",
              "      <td>3.58</td>\n",
              "      <td>4.0251</td>\n",
              "      <td>4.4021</td>\n",
              "      <td>3.3603</td>\n",
              "      <td>2.3974</td>\n",
              "      <td>3.1144</td>\n",
              "      <td>12.595</td>\n",
              "      <td>3.7708</td>\n",
              "      <td>10.0693</td>\n",
              "      <td>1</td>\n",
              "    </tr>\n",
              "    <tr>\n",
              "      <th>freq</th>\n",
              "      <td>3</td>\n",
              "      <td>390</td>\n",
              "      <td>3</td>\n",
              "      <td>2</td>\n",
              "      <td>2</td>\n",
              "      <td>9</td>\n",
              "      <td>8</td>\n",
              "      <td>2</td>\n",
              "      <td>3</td>\n",
              "      <td>9</td>\n",
              "      <td>10</td>\n",
              "      <td>24</td>\n",
              "      <td>14</td>\n",
              "      <td>11</td>\n",
              "      <td>2</td>\n",
              "      <td>5</td>\n",
              "      <td>2</td>\n",
              "      <td>2</td>\n",
              "      <td>3</td>\n",
              "      <td>2</td>\n",
              "      <td>2</td>\n",
              "      <td>2</td>\n",
              "      <td>2</td>\n",
              "      <td>2</td>\n",
              "      <td>2</td>\n",
              "      <td>2</td>\n",
              "      <td>2</td>\n",
              "      <td>2</td>\n",
              "      <td>2</td>\n",
              "      <td>2</td>\n",
              "      <td>2</td>\n",
              "      <td>2</td>\n",
              "      <td>2</td>\n",
              "      <td>2</td>\n",
              "      <td>385</td>\n",
              "      <td>2</td>\n",
              "      <td>377</td>\n",
              "      <td>2</td>\n",
              "      <td>2</td>\n",
              "      <td>2</td>\n",
              "      <td>...</td>\n",
              "      <td>2</td>\n",
              "      <td>2</td>\n",
              "      <td>2</td>\n",
              "      <td>2</td>\n",
              "      <td>2</td>\n",
              "      <td>2</td>\n",
              "      <td>2</td>\n",
              "      <td>2</td>\n",
              "      <td>2</td>\n",
              "      <td>2</td>\n",
              "      <td>2</td>\n",
              "      <td>2</td>\n",
              "      <td>2</td>\n",
              "      <td>2</td>\n",
              "      <td>2</td>\n",
              "      <td>2</td>\n",
              "      <td>2</td>\n",
              "      <td>2</td>\n",
              "      <td>2</td>\n",
              "      <td>2</td>\n",
              "      <td>2</td>\n",
              "      <td>2</td>\n",
              "      <td>2</td>\n",
              "      <td>3</td>\n",
              "      <td>2</td>\n",
              "      <td>3</td>\n",
              "      <td>3</td>\n",
              "      <td>2</td>\n",
              "      <td>3</td>\n",
              "      <td>2</td>\n",
              "      <td>2</td>\n",
              "      <td>2</td>\n",
              "      <td>2</td>\n",
              "      <td>2</td>\n",
              "      <td>2</td>\n",
              "      <td>2</td>\n",
              "      <td>2</td>\n",
              "      <td>2</td>\n",
              "      <td>2</td>\n",
              "      <td>564</td>\n",
              "    </tr>\n",
              "  </tbody>\n",
              "</table>\n",
              "<p>4 rows × 755 columns</p>\n",
              "</div>"
            ],
            "text/plain": [
              "0        id gender  ... tqwt_kurtosisValue_dec_36 class\n",
              "count   756    756  ...                       756   756\n",
              "unique  252      2  ...                       754     2\n",
              "top     239      1  ...                   10.0693     1\n",
              "freq      3    390  ...                         2   564\n",
              "\n",
              "[4 rows x 755 columns]"
            ]
          },
          "metadata": {
            "tags": []
          },
          "execution_count": 191
        }
      ]
    },
    {
      "cell_type": "code",
      "metadata": {
        "id": "a9FvWGzGrurv",
        "trusted": true,
        "colab": {
          "base_uri": "https://localhost:8080/",
          "height": 142
        },
        "outputId": "1d0d7667-d5c4-449d-d2f6-240ce719e33b"
      },
      "source": [
        "pd_speech_features['patient/healthy count'] = 1\n",
        "pd_speech_features.groupby('class').sum()/3"
      ],
      "execution_count": 192,
      "outputs": [
        {
          "output_type": "execute_result",
          "data": {
            "text/html": [
              "<div>\n",
              "<style scoped>\n",
              "    .dataframe tbody tr th:only-of-type {\n",
              "        vertical-align: middle;\n",
              "    }\n",
              "\n",
              "    .dataframe tbody tr th {\n",
              "        vertical-align: top;\n",
              "    }\n",
              "\n",
              "    .dataframe thead th {\n",
              "        text-align: right;\n",
              "    }\n",
              "</style>\n",
              "<table border=\"1\" class=\"dataframe\">\n",
              "  <thead>\n",
              "    <tr style=\"text-align: right;\">\n",
              "      <th></th>\n",
              "      <th>patient/healthy count</th>\n",
              "    </tr>\n",
              "    <tr>\n",
              "      <th>class</th>\n",
              "      <th></th>\n",
              "    </tr>\n",
              "  </thead>\n",
              "  <tbody>\n",
              "    <tr>\n",
              "      <th>0</th>\n",
              "      <td>64.0</td>\n",
              "    </tr>\n",
              "    <tr>\n",
              "      <th>1</th>\n",
              "      <td>188.0</td>\n",
              "    </tr>\n",
              "  </tbody>\n",
              "</table>\n",
              "</div>"
            ],
            "text/plain": [
              "0      patient/healthy count\n",
              "class                       \n",
              "0                       64.0\n",
              "1                      188.0"
            ]
          },
          "metadata": {
            "tags": []
          },
          "execution_count": 192
        }
      ]
    },
    {
      "cell_type": "code",
      "metadata": {
        "id": "L8ppw8fnrur1",
        "trusted": true
      },
      "source": [
        "pd_speech_features = pd_speech_features.drop(['patient/healthy count'], axis = 1)  #756x755"
      ],
      "execution_count": 193,
      "outputs": []
    },
    {
      "cell_type": "markdown",
      "metadata": {
        "id": "YgqnsxXNrur3"
      },
      "source": [
        "All the data was imported in the object type, we now need to take care about the types in the dataframe"
      ]
    },
    {
      "cell_type": "code",
      "metadata": {
        "id": "BY5oJXz9rur4",
        "trusted": true,
        "colab": {
          "base_uri": "https://localhost:8080/"
        },
        "outputId": "a3da72d7-0684-41d6-f9d2-ec6b01a30b52"
      },
      "source": [
        "pd_speech_features =  pd_speech_features.astype(float) #per default all floats \n",
        "pd_speech_features[['id', 'numPulses', 'numPeriodsPulses']] = pd_speech_features[['id', 'numPulses', 'numPeriodsPulses']].astype(int) #ints\n",
        "pd_speech_features[['gender', 'class']] = pd_speech_features[['gender', 'class']].astype('category') #categoricals\n",
        "pd_speech_features.dtypes"
      ],
      "execution_count": 194,
      "outputs": [
        {
          "output_type": "execute_result",
          "data": {
            "text/plain": [
              "0\n",
              "id                              int64\n",
              "gender                       category\n",
              "PPE                           float64\n",
              "DFA                           float64\n",
              "RPDE                          float64\n",
              "                               ...   \n",
              "tqwt_kurtosisValue_dec_33     float64\n",
              "tqwt_kurtosisValue_dec_34     float64\n",
              "tqwt_kurtosisValue_dec_35     float64\n",
              "tqwt_kurtosisValue_dec_36     float64\n",
              "class                        category\n",
              "Length: 755, dtype: object"
            ]
          },
          "metadata": {
            "tags": []
          },
          "execution_count": 194
        }
      ]
    },
    {
      "cell_type": "code",
      "metadata": {
        "id": "uQ8SbaiTCRqP",
        "trusted": true
      },
      "source": [
        "\n",
        "train_df=pd_speech_features\n",
        "\n",
        "y_train = train_df['class']\n",
        "y_train = np.array(y_train.values, dtype = 'int')\n",
        "x_train = train_df.drop(['class','id'], axis = 1) \n",
        "\n",
        "x_train = x_train.values\n"
      ],
      "execution_count": 195,
      "outputs": []
    },
    {
      "cell_type": "code",
      "metadata": {
        "id": "QkotwMAfqW6W",
        "trusted": true,
        "colab": {
          "base_uri": "https://localhost:8080/"
        },
        "outputId": "86dd50a0-8fed-44be-8a21-adf6041f1b6c"
      },
      "source": [
        "print(x_train.shape)\n",
        "print(y_train.shape)\n"
      ],
      "execution_count": 196,
      "outputs": [
        {
          "output_type": "stream",
          "text": [
            "(756, 753)\n",
            "(756,)\n"
          ],
          "name": "stdout"
        }
      ]
    },
    {
      "cell_type": "code",
      "metadata": {
        "colab": {
          "base_uri": "https://localhost:8080/"
        },
        "id": "tteEg1QRItRm",
        "outputId": "1d8d4875-45e2-4205-b06e-a4db18c0fae7"
      },
      "source": [
        "!pip install --upgrade scikit-learn"
      ],
      "execution_count": 197,
      "outputs": [
        {
          "output_type": "stream",
          "text": [
            "Requirement already up-to-date: scikit-learn in /usr/local/lib/python3.7/dist-packages (0.24.1)\n",
            "Requirement already satisfied, skipping upgrade: scipy>=0.19.1 in /usr/local/lib/python3.7/dist-packages (from scikit-learn) (1.4.1)\n",
            "Requirement already satisfied, skipping upgrade: numpy>=1.13.3 in /usr/local/lib/python3.7/dist-packages (from scikit-learn) (1.19.5)\n",
            "Requirement already satisfied, skipping upgrade: joblib>=0.11 in /usr/local/lib/python3.7/dist-packages (from scikit-learn) (1.0.1)\n",
            "Requirement already satisfied, skipping upgrade: threadpoolctl>=2.0.0 in /usr/local/lib/python3.7/dist-packages (from scikit-learn) (2.1.0)\n"
          ],
          "name": "stdout"
        }
      ]
    },
    {
      "cell_type": "code",
      "metadata": {
        "id": "xZgiEXM-XTxv",
        "trusted": true
      },
      "source": [
        "from sklearn.preprocessing import StandardScaler\n",
        "sc = StandardScaler()\n",
        "\n",
        "x_train= sc.fit_transform(x_train)"
      ],
      "execution_count": 198,
      "outputs": []
    },
    {
      "cell_type": "code",
      "metadata": {
        "id": "VOlnHs_wprt5",
        "trusted": true
      },
      "source": [
        "k_fold=KFold(10,True,10)"
      ],
      "execution_count": 199,
      "outputs": []
    },
    {
      "cell_type": "code",
      "metadata": {
        "trusted": true,
        "id": "eXuxV9-3H6c_",
        "colab": {
          "base_uri": "https://localhost:8080/"
        },
        "outputId": "903a9055-a7a7-45dc-ca76-4ae7658fcdf8"
      },
      "source": [
        "import torch.nn as nn\n",
        "import torch\n",
        "import torch.nn.functional as F\n",
        "\n",
        "torch.manual_seed(10)"
      ],
      "execution_count": 200,
      "outputs": [
        {
          "output_type": "execute_result",
          "data": {
            "text/plain": [
              "<torch._C.Generator at 0x7f2e35da3d10>"
            ]
          },
          "metadata": {
            "tags": []
          },
          "execution_count": 200
        }
      ]
    },
    {
      "cell_type": "code",
      "metadata": {
        "trusted": true,
        "id": "Glj55X8yH6c_"
      },
      "source": [
        "HU=50\n",
        "m=nn.Sequential(nn.Linear(HU,HU), nn.ReLU(),nn.Linear(HU,HU),nn.ReLU())\n",
        "\n",
        "class Model(nn.Module):\n",
        "    def __init__(self):\n",
        "        super().__init__()\n",
        "        self.l1=nn.Linear(753,HU)\n",
        "        self.l2=nn.Linear(HU,HU)\n",
        "        self.l3=nn.Linear(HU,HU)\n",
        "        self.ll=m\n",
        "        self.l4=nn.Linear(HU,1)\n",
        "        \n",
        "    def forward(self,x):\n",
        "        x=self.l1(x)\n",
        "        x=F.relu(F.dropout(x,0.20))\n",
        "        x1=self.l2(x)\n",
        "        x=self.l3(x1)\n",
        "        x2=self.ll((x+x1)/2.00)\n",
        "        x=F.relu(F.dropout((x+x2)/2.0,0.20))\n",
        "        x=self.ll((x))\n",
        "        #x=self.l3(x)\n",
        "        x3=F.relu(F.dropout((x+x1+x2)/3.0,0.200))\n",
        "        x=self.l4(x3)\n",
        "        \n",
        "        return x"
      ],
      "execution_count": 201,
      "outputs": []
    },
    {
      "cell_type": "code",
      "metadata": {
        "trusted": true,
        "id": "nvc3U-pUH6c_"
      },
      "source": [
        "#model=lstm_model#Model()\n",
        "#model=model\n",
        "model=Model()\n",
        "criterion = nn.BCEWithLogitsLoss()\n",
        "optimizer=torch.optim.SGD(model.parameters(),lr=0.6,momentum=0.99, nesterov=False)\n",
        "scheduler=torch.optim.lr_scheduler.StepLR(optimizer, step_size=20, gamma=(.2))"
      ],
      "execution_count": 202,
      "outputs": []
    },
    {
      "cell_type": "code",
      "metadata": {
        "trusted": true,
        "colab": {
          "base_uri": "https://localhost:8080/"
        },
        "id": "aGkB3k10H6c_",
        "outputId": "f9ead34a-f214-405d-bd0e-105f537f9e17"
      },
      "source": [
        "#x=torch.from_numpy(x_train_transformed_9_features[:600]).float()\n",
        "x=torch.from_numpy(x_train[:600]).float()\n",
        "y=torch.from_numpy(y_train[:600]).float()\n",
        "\n",
        "def train(model,optimizer, scheduler, criterion, x,y):\n",
        "    \n",
        "    losses=[]\n",
        "    \n",
        "    for i in range(100):\n",
        "        output=model(x)\n",
        "        loss=criterion(output.view(y.shape[0]),y)\n",
        "    \n",
        "        losses.append(loss)\n",
        "    \n",
        "        #if (i%100==0):\n",
        "         #   print(i,' ',loss.item())\n",
        "    \n",
        "        optimizer.zero_grad()\n",
        "        loss.backward()\n",
        "        optimizer.step()\n",
        "        scheduler.step()\n",
        "    \n",
        "    # training accuracy\n",
        "    with torch.no_grad():\n",
        "        preds=torch.sigmoid(model(x)).round()\n",
        "        print('\\ntraining report: \\n',classification_report(y,preds.view(preds.shape[0])))\n",
        "        \n",
        "    return model, losses\n",
        "\n",
        "model, losses= train(model,optimizer, scheduler, criterion,x,y)"
      ],
      "execution_count": 203,
      "outputs": [
        {
          "output_type": "stream",
          "text": [
            "\n",
            "training report: \n",
            "               precision    recall  f1-score   support\n",
            "\n",
            "         0.0       0.99      0.96      0.97       141\n",
            "         1.0       0.99      1.00      0.99       459\n",
            "\n",
            "    accuracy                           0.99       600\n",
            "   macro avg       0.99      0.98      0.98       600\n",
            "weighted avg       0.99      0.99      0.99       600\n",
            "\n"
          ],
          "name": "stdout"
        }
      ]
    },
    {
      "cell_type": "code",
      "metadata": {
        "trusted": true,
        "colab": {
          "base_uri": "https://localhost:8080/",
          "height": 265
        },
        "id": "9Ge8Up3dH6dA",
        "outputId": "60966dc4-7bf0-4fb1-e9ce-134cae63abe5"
      },
      "source": [
        "%matplotlib inline\n",
        "plt.plot(losses)\n",
        "plt.show()"
      ],
      "execution_count": 204,
      "outputs": [
        {
          "output_type": "display_data",
          "data": {
            "image/png": "[encoded data removed]",
            "text/plain": [
              "<Figure size 432x288 with 1 Axes>"
            ]
          },
          "metadata": {
            "tags": [],
            "needs_background": "light"
          }
        }
      ]
    },
    {
      "cell_type": "code",
      "metadata": {
        "trusted": true,
        "id": "5Za9Fg9eH6dA"
      },
      "source": [
        "def test(model, tstx, tsty):\n",
        "    with torch.no_grad():\n",
        "    \n",
        "        preds=torch.sigmoid(model(tstx)).round()\n",
        "        print('testing report:')\n",
        "        print(classification_report(tsty,preds.view(preds.shape[0])))\n",
        "    \n",
        "    \n",
        "    \n",
        "        print(torch.sigmoid(preds).round().shape)"
      ],
      "execution_count": 205,
      "outputs": []
    },
    {
      "cell_type": "code",
      "metadata": {
        "trusted": true,
        "colab": {
          "base_uri": "https://localhost:8080/"
        },
        "id": "K-GCeSQGH6dA",
        "outputId": "4f0d16a0-0297-4eaf-9e44-ec09eb9e18a7"
      },
      "source": [
        "#tstx=torch.from_numpy(x_train_transformed_9_features[600:]).float()\n",
        "tstx=torch.from_numpy(x_train[600:]).float()\n",
        "tsty=torch.from_numpy(y_train[600:]).float()\n",
        "\n",
        "test(model,tstx,tsty)"
      ],
      "execution_count": 206,
      "outputs": [
        {
          "output_type": "stream",
          "text": [
            "testing report:\n",
            "              precision    recall  f1-score   support\n",
            "\n",
            "         0.0       0.59      0.51      0.55        51\n",
            "         1.0       0.78      0.83      0.80       105\n",
            "\n",
            "    accuracy                           0.72       156\n",
            "   macro avg       0.68      0.67      0.67       156\n",
            "weighted avg       0.72      0.72      0.72       156\n",
            "\n",
            "torch.Size([156, 1])\n"
          ],
          "name": "stdout"
        }
      ]
    },
    {
      "cell_type": "code",
      "metadata": {
        "trusted": true,
        "colab": {
          "base_uri": "https://localhost:8080/"
        },
        "id": "FPErmU27H6dB",
        "outputId": "c851f703-4243-4086-af1d-093c3b0146fe"
      },
      "source": [
        "x_train.shape"
      ],
      "execution_count": 207,
      "outputs": [
        {
          "output_type": "execute_result",
          "data": {
            "text/plain": [
              "(756, 753)"
            ]
          },
          "metadata": {
            "tags": []
          },
          "execution_count": 207
        }
      ]
    },
    {
      "cell_type": "code",
      "metadata": {
        "trusted": true,
        "id": "PnfCcJo9H6dB"
      },
      "source": [
        "def run_network(model, trainx,trainy, testx, testy):\n",
        "    model=Model()\n",
        "    criterion = nn.BCEWithLogitsLoss()\n",
        "    optimizer=torch.optim.SGD(model.parameters(),lr=0.58,momentum=0.99, nesterov=True)\n",
        "    #optim=torch.optim.Adam(model.parameters(),lr=0.1)\n",
        "    scheduler=torch.optim.lr_scheduler.StepLR(optimizer, step_size=20, gamma=0.2)\n",
        "    model, losses= train(model,optimizer, scheduler, criterion,trainx, trainy)\n",
        "    test(model, testx, testy)\n",
        "    \n",
        "    return model, losses"
      ],
      "execution_count": 208,
      "outputs": []
    },
    {
      "cell_type": "code",
      "metadata": {
        "trusted": true,
        "colab": {
          "base_uri": "https://localhost:8080/"
        },
        "id": "8Hh_j13-H6dB",
        "outputId": "088633d9-ba94-4631-95b6-58e2cc72f6ea"
      },
      "source": [
        "fold=0\n",
        "losses=[[] for i in range(10)]\n",
        "\n",
        "for trids, tstids in k_fold.split(x_train):\n",
        "    trainx, testx=x_train[trids,:], x_train[tstids,:]\n",
        "    #trainx, testx=x_train[trids,:], x_train[tstids,:]\n",
        "    trainy, testy=y_train[trids], y_train[tstids]\n",
        "    \n",
        "    trainx=torch.from_numpy(trainx).float()\n",
        "    trainy=torch.from_numpy(trainy).float()\n",
        "    testx=torch.from_numpy(testx).float()\n",
        "    testy=torch.from_numpy(testy).float()\n",
        "    \n",
        "    print('fold: ',fold)\n",
        "    \n",
        "    model=Model()\n",
        "    \n",
        "    _,losses[fold]=run_network(model, trainx,trainy, testx,testy)\n",
        "    \n",
        "    fold=fold+1\n",
        "\n",
        "\n"
      ],
      "execution_count": 209,
      "outputs": [
        {
          "output_type": "stream",
          "text": [
            "fold:  0\n",
            "\n",
            "training report: \n",
            "               precision    recall  f1-score   support\n",
            "\n",
            "         0.0       0.99      0.99      0.99       178\n",
            "         1.0       1.00      1.00      1.00       502\n",
            "\n",
            "    accuracy                           1.00       680\n",
            "   macro avg       1.00      0.99      0.99       680\n",
            "weighted avg       1.00      1.00      1.00       680\n",
            "\n",
            "testing report:\n",
            "              precision    recall  f1-score   support\n",
            "\n",
            "         0.0       0.70      0.50      0.58        14\n",
            "         1.0       0.89      0.95      0.92        62\n",
            "\n",
            "    accuracy                           0.87        76\n",
            "   macro avg       0.80      0.73      0.75        76\n",
            "weighted avg       0.86      0.87      0.86        76\n",
            "\n",
            "torch.Size([76, 1])\n",
            "fold:  1\n",
            "\n",
            "training report: \n",
            "               precision    recall  f1-score   support\n",
            "\n",
            "         0.0       1.00      0.99      1.00       172\n",
            "         1.0       1.00      1.00      1.00       508\n",
            "\n",
            "    accuracy                           1.00       680\n",
            "   macro avg       1.00      1.00      1.00       680\n",
            "weighted avg       1.00      1.00      1.00       680\n",
            "\n",
            "testing report:\n",
            "              precision    recall  f1-score   support\n",
            "\n",
            "         0.0       0.73      0.55      0.63        20\n",
            "         1.0       0.85      0.93      0.89        56\n",
            "\n",
            "    accuracy                           0.83        76\n",
            "   macro avg       0.79      0.74      0.76        76\n",
            "weighted avg       0.82      0.83      0.82        76\n",
            "\n",
            "torch.Size([76, 1])\n",
            "fold:  2\n",
            "\n",
            "training report: \n",
            "               precision    recall  f1-score   support\n",
            "\n",
            "         0.0       0.99      1.00      0.99       174\n",
            "         1.0       1.00      1.00      1.00       506\n",
            "\n",
            "    accuracy                           1.00       680\n",
            "   macro avg       0.99      1.00      1.00       680\n",
            "weighted avg       1.00      1.00      1.00       680\n",
            "\n",
            "testing report:\n",
            "              precision    recall  f1-score   support\n",
            "\n",
            "         0.0       0.82      0.78      0.80        18\n",
            "         1.0       0.93      0.95      0.94        58\n",
            "\n",
            "    accuracy                           0.91        76\n",
            "   macro avg       0.88      0.86      0.87        76\n",
            "weighted avg       0.91      0.91      0.91        76\n",
            "\n",
            "torch.Size([76, 1])\n",
            "fold:  3\n",
            "\n",
            "training report: \n",
            "               precision    recall  f1-score   support\n",
            "\n",
            "         0.0       1.00      0.99      1.00       174\n",
            "         1.0       1.00      1.00      1.00       506\n",
            "\n",
            "    accuracy                           1.00       680\n",
            "   macro avg       1.00      1.00      1.00       680\n",
            "weighted avg       1.00      1.00      1.00       680\n",
            "\n",
            "testing report:\n",
            "              precision    recall  f1-score   support\n",
            "\n",
            "         0.0       0.79      0.83      0.81        18\n",
            "         1.0       0.95      0.93      0.94        58\n",
            "\n",
            "    accuracy                           0.91        76\n",
            "   macro avg       0.87      0.88      0.87        76\n",
            "weighted avg       0.91      0.91      0.91        76\n",
            "\n",
            "torch.Size([76, 1])\n",
            "fold:  4\n",
            "\n",
            "training report: \n",
            "               precision    recall  f1-score   support\n",
            "\n",
            "         0.0       1.00      1.00      1.00       177\n",
            "         1.0       1.00      1.00      1.00       503\n",
            "\n",
            "    accuracy                           1.00       680\n",
            "   macro avg       1.00      1.00      1.00       680\n",
            "weighted avg       1.00      1.00      1.00       680\n",
            "\n",
            "testing report:\n",
            "              precision    recall  f1-score   support\n",
            "\n",
            "         0.0       0.91      0.67      0.77        15\n",
            "         1.0       0.92      0.98      0.95        61\n",
            "\n",
            "    accuracy                           0.92        76\n",
            "   macro avg       0.92      0.83      0.86        76\n",
            "weighted avg       0.92      0.92      0.92        76\n",
            "\n",
            "torch.Size([76, 1])\n",
            "fold:  5\n",
            "\n",
            "training report: \n",
            "               precision    recall  f1-score   support\n",
            "\n",
            "         0.0       1.00      1.00      1.00       171\n",
            "         1.0       1.00      1.00      1.00       509\n",
            "\n",
            "    accuracy                           1.00       680\n",
            "   macro avg       1.00      1.00      1.00       680\n",
            "weighted avg       1.00      1.00      1.00       680\n",
            "\n",
            "testing report:\n",
            "              precision    recall  f1-score   support\n",
            "\n",
            "         0.0       0.74      0.67      0.70        21\n",
            "         1.0       0.88      0.91      0.89        55\n",
            "\n",
            "    accuracy                           0.84        76\n",
            "   macro avg       0.81      0.79      0.80        76\n",
            "weighted avg       0.84      0.84      0.84        76\n",
            "\n",
            "torch.Size([76, 1])\n",
            "fold:  6\n",
            "\n",
            "training report: \n",
            "               precision    recall  f1-score   support\n",
            "\n",
            "         0.0       1.00      1.00      1.00       166\n",
            "         1.0       1.00      1.00      1.00       515\n",
            "\n",
            "    accuracy                           1.00       681\n",
            "   macro avg       1.00      1.00      1.00       681\n",
            "weighted avg       1.00      1.00      1.00       681\n",
            "\n",
            "testing report:\n",
            "              precision    recall  f1-score   support\n",
            "\n",
            "         0.0       0.90      0.69      0.78        26\n",
            "         1.0       0.85      0.96      0.90        49\n",
            "\n",
            "    accuracy                           0.87        75\n",
            "   macro avg       0.88      0.83      0.84        75\n",
            "weighted avg       0.87      0.87      0.86        75\n",
            "\n",
            "torch.Size([75, 1])\n",
            "fold:  7\n",
            "\n",
            "training report: \n",
            "               precision    recall  f1-score   support\n",
            "\n",
            "         0.0       1.00      0.99      1.00       178\n",
            "         1.0       1.00      1.00      1.00       503\n",
            "\n",
            "    accuracy                           1.00       681\n",
            "   macro avg       1.00      1.00      1.00       681\n",
            "weighted avg       1.00      1.00      1.00       681\n",
            "\n",
            "testing report:\n",
            "              precision    recall  f1-score   support\n",
            "\n",
            "         0.0       0.81      0.93      0.87        14\n",
            "         1.0       0.98      0.95      0.97        61\n",
            "\n",
            "    accuracy                           0.95        75\n",
            "   macro avg       0.90      0.94      0.92        75\n",
            "weighted avg       0.95      0.95      0.95        75\n",
            "\n",
            "torch.Size([75, 1])\n",
            "fold:  8\n",
            "\n",
            "training report: \n",
            "               precision    recall  f1-score   support\n",
            "\n",
            "         0.0       1.00      1.00      1.00       173\n",
            "         1.0       1.00      1.00      1.00       508\n",
            "\n",
            "    accuracy                           1.00       681\n",
            "   macro avg       1.00      1.00      1.00       681\n",
            "weighted avg       1.00      1.00      1.00       681\n",
            "\n",
            "testing report:\n",
            "              precision    recall  f1-score   support\n",
            "\n",
            "         0.0       0.81      0.68      0.74        19\n",
            "         1.0       0.90      0.95      0.92        56\n",
            "\n",
            "    accuracy                           0.88        75\n",
            "   macro avg       0.86      0.82      0.83        75\n",
            "weighted avg       0.88      0.88      0.88        75\n",
            "\n",
            "torch.Size([75, 1])\n",
            "fold:  9\n",
            "\n",
            "training report: \n",
            "               precision    recall  f1-score   support\n",
            "\n",
            "         0.0       1.00      1.00      1.00       165\n",
            "         1.0       1.00      1.00      1.00       516\n",
            "\n",
            "    accuracy                           1.00       681\n",
            "   macro avg       1.00      1.00      1.00       681\n",
            "weighted avg       1.00      1.00      1.00       681\n",
            "\n",
            "testing report:\n",
            "              precision    recall  f1-score   support\n",
            "\n",
            "         0.0       0.83      0.89      0.86        27\n",
            "         1.0       0.93      0.90      0.91        48\n",
            "\n",
            "    accuracy                           0.89        75\n",
            "   macro avg       0.88      0.89      0.89        75\n",
            "weighted avg       0.90      0.89      0.89        75\n",
            "\n",
            "torch.Size([75, 1])\n"
          ],
          "name": "stdout"
        }
      ]
    },
    {
      "cell_type": "code",
      "metadata": {
        "trusted": true,
        "id": "hEj4rX9xH6dC"
      },
      "source": [
        ""
      ],
      "execution_count": 163,
      "outputs": []
    },
    {
      "cell_type": "code",
      "metadata": {
        "trusted": true,
        "colab": {
          "base_uri": "https://localhost:8080/",
          "height": 298
        },
        "id": "yImmOUVaH6dC",
        "outputId": "e8d4df0c-6253-4648-bf7f-31d9f25ebeea"
      },
      "source": [
        "for i in range(10):\n",
        "  plt.plot(losses[i])\n",
        "plt.title('losses')\n",
        "plt.ylim(0.0,1)"
      ],
      "execution_count": 164,
      "outputs": [
        {
          "output_type": "execute_result",
          "data": {
            "text/plain": [
              "(0.0, 1.0)"
            ]
          },
          "metadata": {
            "tags": []
          },
          "execution_count": 164
        },
        {
          "output_type": "display_data",
          "data": {
            "image/png": "[encoded data removed]",
            "text/plain": [
              "<Figure size 432x288 with 1 Axes>"
            ]
          },
          "metadata": {
            "tags": [],
            "needs_background": "light"
          }
        }
      ]
    },
    {
      "cell_type": "code",
      "metadata": {
        "trusted": true,
        "id": "Muup2X94H6dC"
      },
      "source": [
        ""
      ],
      "execution_count": 54,
      "outputs": []
    }
  ]
}